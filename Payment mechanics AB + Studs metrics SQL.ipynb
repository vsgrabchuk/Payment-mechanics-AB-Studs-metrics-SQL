{
 "cells": [
  {
   "cell_type": "code",
   "execution_count": 2,
   "metadata": {},
   "outputs": [],
   "source": [
    "import pandas as pd\n",
    "import numpy as np\n",
    "import scipy.stats as ss\n",
    "from tqdm.auto import tqdm\n",
    "import pandahouse as ph\n",
    "import pandasql as ps\n",
    "\n",
    "import matplotlib.pyplot as plt\n",
    "import seaborn as sns"
   ]
  },
  {
   "cell_type": "code",
   "execution_count": 3,
   "metadata": {},
   "outputs": [],
   "source": [
    "# Настройка графиков\n",
    "sns.set(\n",
    "    font_scale=.8,\n",
    "    style='whitegrid',\n",
    "    rc={'figure.figsize': (5, 4)}\n",
    ")"
   ]
  },
  {
   "cell_type": "markdown",
   "metadata": {},
   "source": [
    "# Задание 1 (A/B)\n",
    "## Условие\n",
    "A/B тест - новая механика оплаты услуг на сайте (предполагается онлайн-магазин) \\\n",
    "Нужно ли запускать на всех пользователях?\n",
    "## Требования\n",
    "1) Использовать язык программирования Python  \n",
    "2) Комментарии к действиям  \n",
    "3) Законченный отчёт с выводами"
   ]
  },
  {
   "cell_type": "markdown",
   "metadata": {},
   "source": [
    "## Данные"
   ]
  },
  {
   "cell_type": "markdown",
   "metadata": {},
   "source": [
    "**groups.csv (ids_df)** - инфа о принадлежности пользователя группе (A/B)"
   ]
  },
  {
   "cell_type": "code",
   "execution_count": 4,
   "metadata": {},
   "outputs": [],
   "source": [
    "# get_url = 'https://getfile.dokpub.com/yandex/get/'\n",
    "# url = 'https://disk.yandex.ru/d/UhyYx41rTt3clQ'\n",
    "# ids_df = pd.read_csv(get_url + url, sep=';')\n",
    "\n",
    "ids_df = pd.read_csv('groups.csv', sep=';')"
   ]
  },
  {
   "cell_type": "code",
   "execution_count": 5,
   "metadata": {},
   "outputs": [
    {
     "data": {
      "text/html": [
       "<div>\n",
       "<style scoped>\n",
       "    .dataframe tbody tr th:only-of-type {\n",
       "        vertical-align: middle;\n",
       "    }\n",
       "\n",
       "    .dataframe tbody tr th {\n",
       "        vertical-align: top;\n",
       "    }\n",
       "\n",
       "    .dataframe thead th {\n",
       "        text-align: right;\n",
       "    }\n",
       "</style>\n",
       "<table border=\"1\" class=\"dataframe\">\n",
       "  <thead>\n",
       "    <tr style=\"text-align: right;\">\n",
       "      <th></th>\n",
       "      <th>id</th>\n",
       "      <th>grp</th>\n",
       "    </tr>\n",
       "  </thead>\n",
       "  <tbody>\n",
       "    <tr>\n",
       "      <th>0</th>\n",
       "      <td>1489</td>\n",
       "      <td>B</td>\n",
       "    </tr>\n",
       "    <tr>\n",
       "      <th>1</th>\n",
       "      <td>1627</td>\n",
       "      <td>A</td>\n",
       "    </tr>\n",
       "    <tr>\n",
       "      <th>2</th>\n",
       "      <td>1768</td>\n",
       "      <td>B</td>\n",
       "    </tr>\n",
       "    <tr>\n",
       "      <th>3</th>\n",
       "      <td>1783</td>\n",
       "      <td>B</td>\n",
       "    </tr>\n",
       "    <tr>\n",
       "      <th>4</th>\n",
       "      <td>1794</td>\n",
       "      <td>A</td>\n",
       "    </tr>\n",
       "    <tr>\n",
       "      <th>...</th>\n",
       "      <td>...</td>\n",
       "      <td>...</td>\n",
       "    </tr>\n",
       "    <tr>\n",
       "      <th>74479</th>\n",
       "      <td>5692459</td>\n",
       "      <td>B</td>\n",
       "    </tr>\n",
       "    <tr>\n",
       "      <th>74480</th>\n",
       "      <td>5692572</td>\n",
       "      <td>B</td>\n",
       "    </tr>\n",
       "    <tr>\n",
       "      <th>74481</th>\n",
       "      <td>5692865</td>\n",
       "      <td>B</td>\n",
       "    </tr>\n",
       "    <tr>\n",
       "      <th>74482</th>\n",
       "      <td>5693667</td>\n",
       "      <td>B</td>\n",
       "    </tr>\n",
       "    <tr>\n",
       "      <th>74483</th>\n",
       "      <td>5694419</td>\n",
       "      <td>B</td>\n",
       "    </tr>\n",
       "  </tbody>\n",
       "</table>\n",
       "<p>74484 rows × 2 columns</p>\n",
       "</div>"
      ],
      "text/plain": [
       "            id grp\n",
       "0         1489   B\n",
       "1         1627   A\n",
       "2         1768   B\n",
       "3         1783   B\n",
       "4         1794   A\n",
       "...        ...  ..\n",
       "74479  5692459   B\n",
       "74480  5692572   B\n",
       "74481  5692865   B\n",
       "74482  5693667   B\n",
       "74483  5694419   B\n",
       "\n",
       "[74484 rows x 2 columns]"
      ]
     },
     "execution_count": 5,
     "metadata": {},
     "output_type": "execute_result"
    }
   ],
   "source": [
    "ids_df"
   ]
  },
  {
   "cell_type": "markdown",
   "metadata": {},
   "source": [
    "- A - контрольная группа\n",
    "- B - тестовая группа"
   ]
  },
  {
   "cell_type": "markdown",
   "metadata": {},
   "source": [
    "**group_add.csv (ids_add_df)**  - дополнительные пользователи к groups.csv"
   ]
  },
  {
   "cell_type": "code",
   "execution_count": 6,
   "metadata": {},
   "outputs": [],
   "source": [
    "ids_add_df = pd.read_csv('group_add.csv', sep=',')"
   ]
  },
  {
   "cell_type": "code",
   "execution_count": 7,
   "metadata": {},
   "outputs": [
    {
     "data": {
      "text/html": [
       "<div>\n",
       "<style scoped>\n",
       "    .dataframe tbody tr th:only-of-type {\n",
       "        vertical-align: middle;\n",
       "    }\n",
       "\n",
       "    .dataframe tbody tr th {\n",
       "        vertical-align: top;\n",
       "    }\n",
       "\n",
       "    .dataframe thead th {\n",
       "        text-align: right;\n",
       "    }\n",
       "</style>\n",
       "<table border=\"1\" class=\"dataframe\">\n",
       "  <thead>\n",
       "    <tr style=\"text-align: right;\">\n",
       "      <th></th>\n",
       "      <th>id</th>\n",
       "      <th>grp</th>\n",
       "    </tr>\n",
       "  </thead>\n",
       "  <tbody>\n",
       "    <tr>\n",
       "      <th>0</th>\n",
       "      <td>5694584</td>\n",
       "      <td>B</td>\n",
       "    </tr>\n",
       "    <tr>\n",
       "      <th>1</th>\n",
       "      <td>5694830</td>\n",
       "      <td>B</td>\n",
       "    </tr>\n",
       "    <tr>\n",
       "      <th>2</th>\n",
       "      <td>5695057</td>\n",
       "      <td>B</td>\n",
       "    </tr>\n",
       "    <tr>\n",
       "      <th>3</th>\n",
       "      <td>5698872</td>\n",
       "      <td>B</td>\n",
       "    </tr>\n",
       "    <tr>\n",
       "      <th>4</th>\n",
       "      <td>5699067</td>\n",
       "      <td>B</td>\n",
       "    </tr>\n",
       "    <tr>\n",
       "      <th>...</th>\n",
       "      <td>...</td>\n",
       "      <td>...</td>\n",
       "    </tr>\n",
       "    <tr>\n",
       "      <th>87</th>\n",
       "      <td>200247820</td>\n",
       "      <td>B</td>\n",
       "    </tr>\n",
       "    <tr>\n",
       "      <th>88</th>\n",
       "      <td>201032527</td>\n",
       "      <td>B</td>\n",
       "    </tr>\n",
       "    <tr>\n",
       "      <th>89</th>\n",
       "      <td>201067612</td>\n",
       "      <td>B</td>\n",
       "    </tr>\n",
       "    <tr>\n",
       "      <th>90</th>\n",
       "      <td>201067653</td>\n",
       "      <td>B</td>\n",
       "    </tr>\n",
       "    <tr>\n",
       "      <th>91</th>\n",
       "      <td>201067659</td>\n",
       "      <td>B</td>\n",
       "    </tr>\n",
       "  </tbody>\n",
       "</table>\n",
       "<p>92 rows × 2 columns</p>\n",
       "</div>"
      ],
      "text/plain": [
       "           id grp\n",
       "0     5694584   B\n",
       "1     5694830   B\n",
       "2     5695057   B\n",
       "3     5698872   B\n",
       "4     5699067   B\n",
       "..        ...  ..\n",
       "87  200247820   B\n",
       "88  201032527   B\n",
       "89  201067612   B\n",
       "90  201067653   B\n",
       "91  201067659   B\n",
       "\n",
       "[92 rows x 2 columns]"
      ]
     },
     "execution_count": 7,
     "metadata": {},
     "output_type": "execute_result"
    }
   ],
   "source": [
    "ids_add_df"
   ]
  },
  {
   "cell_type": "markdown",
   "metadata": {},
   "source": [
    "**active_studs.csv (users_df)** - инфа по пользователям, которые зашли на платформу в дни проведения эксперимента"
   ]
  },
  {
   "cell_type": "code",
   "execution_count": 8,
   "metadata": {},
   "outputs": [],
   "source": [
    "users_df = pd.read_csv('active_studs.csv')"
   ]
  },
  {
   "cell_type": "code",
   "execution_count": 9,
   "metadata": {},
   "outputs": [],
   "source": [
    "users_df.rename(columns={'student_id': 'id'}, inplace=True)"
   ]
  },
  {
   "cell_type": "code",
   "execution_count": 10,
   "metadata": {},
   "outputs": [
    {
     "data": {
      "text/html": [
       "<div>\n",
       "<style scoped>\n",
       "    .dataframe tbody tr th:only-of-type {\n",
       "        vertical-align: middle;\n",
       "    }\n",
       "\n",
       "    .dataframe tbody tr th {\n",
       "        vertical-align: top;\n",
       "    }\n",
       "\n",
       "    .dataframe thead th {\n",
       "        text-align: right;\n",
       "    }\n",
       "</style>\n",
       "<table border=\"1\" class=\"dataframe\">\n",
       "  <thead>\n",
       "    <tr style=\"text-align: right;\">\n",
       "      <th></th>\n",
       "      <th>id</th>\n",
       "    </tr>\n",
       "  </thead>\n",
       "  <tbody>\n",
       "    <tr>\n",
       "      <th>0</th>\n",
       "      <td>581585</td>\n",
       "    </tr>\n",
       "    <tr>\n",
       "      <th>1</th>\n",
       "      <td>5723133</td>\n",
       "    </tr>\n",
       "    <tr>\n",
       "      <th>2</th>\n",
       "      <td>3276743</td>\n",
       "    </tr>\n",
       "    <tr>\n",
       "      <th>3</th>\n",
       "      <td>4238589</td>\n",
       "    </tr>\n",
       "    <tr>\n",
       "      <th>4</th>\n",
       "      <td>4475369</td>\n",
       "    </tr>\n",
       "    <tr>\n",
       "      <th>...</th>\n",
       "      <td>...</td>\n",
       "    </tr>\n",
       "    <tr>\n",
       "      <th>8336</th>\n",
       "      <td>1794344</td>\n",
       "    </tr>\n",
       "    <tr>\n",
       "      <th>8337</th>\n",
       "      <td>296883</td>\n",
       "    </tr>\n",
       "    <tr>\n",
       "      <th>8338</th>\n",
       "      <td>3598448</td>\n",
       "    </tr>\n",
       "    <tr>\n",
       "      <th>8339</th>\n",
       "      <td>3610547</td>\n",
       "    </tr>\n",
       "    <tr>\n",
       "      <th>8340</th>\n",
       "      <td>205705</td>\n",
       "    </tr>\n",
       "  </tbody>\n",
       "</table>\n",
       "<p>8341 rows × 1 columns</p>\n",
       "</div>"
      ],
      "text/plain": [
       "           id\n",
       "0      581585\n",
       "1     5723133\n",
       "2     3276743\n",
       "3     4238589\n",
       "4     4475369\n",
       "...       ...\n",
       "8336  1794344\n",
       "8337   296883\n",
       "8338  3598448\n",
       "8339  3610547\n",
       "8340   205705\n",
       "\n",
       "[8341 rows x 1 columns]"
      ]
     },
     "execution_count": 10,
     "metadata": {},
     "output_type": "execute_result"
    }
   ],
   "source": [
    "users_df"
   ]
  },
  {
   "cell_type": "markdown",
   "metadata": {},
   "source": [
    "**checks.csv (checks_df)** - инфа об оплатах пользователей в дни проведения эксперимента"
   ]
  },
  {
   "cell_type": "code",
   "execution_count": 11,
   "metadata": {},
   "outputs": [],
   "source": [
    "checks_df = pd.read_csv('checks.csv', sep=';')"
   ]
  },
  {
   "cell_type": "markdown",
   "metadata": {},
   "source": [
    "Предполагается, что в таблице указаны те же id пользователей, что были в active_studs.csv"
   ]
  },
  {
   "cell_type": "code",
   "execution_count": 12,
   "metadata": {},
   "outputs": [],
   "source": [
    "checks_df.rename(columns={'student_id': 'id'}, inplace=True)"
   ]
  },
  {
   "cell_type": "code",
   "execution_count": 13,
   "metadata": {},
   "outputs": [
    {
     "data": {
      "text/html": [
       "<div>\n",
       "<style scoped>\n",
       "    .dataframe tbody tr th:only-of-type {\n",
       "        vertical-align: middle;\n",
       "    }\n",
       "\n",
       "    .dataframe tbody tr th {\n",
       "        vertical-align: top;\n",
       "    }\n",
       "\n",
       "    .dataframe thead th {\n",
       "        text-align: right;\n",
       "    }\n",
       "</style>\n",
       "<table border=\"1\" class=\"dataframe\">\n",
       "  <thead>\n",
       "    <tr style=\"text-align: right;\">\n",
       "      <th></th>\n",
       "      <th>id</th>\n",
       "      <th>rev</th>\n",
       "    </tr>\n",
       "  </thead>\n",
       "  <tbody>\n",
       "    <tr>\n",
       "      <th>0</th>\n",
       "      <td>1627</td>\n",
       "      <td>990.0</td>\n",
       "    </tr>\n",
       "    <tr>\n",
       "      <th>1</th>\n",
       "      <td>3185</td>\n",
       "      <td>690.0</td>\n",
       "    </tr>\n",
       "    <tr>\n",
       "      <th>2</th>\n",
       "      <td>25973</td>\n",
       "      <td>690.0</td>\n",
       "    </tr>\n",
       "    <tr>\n",
       "      <th>3</th>\n",
       "      <td>26280</td>\n",
       "      <td>690.0</td>\n",
       "    </tr>\n",
       "    <tr>\n",
       "      <th>4</th>\n",
       "      <td>100300</td>\n",
       "      <td>990.0</td>\n",
       "    </tr>\n",
       "    <tr>\n",
       "      <th>...</th>\n",
       "      <td>...</td>\n",
       "      <td>...</td>\n",
       "    </tr>\n",
       "    <tr>\n",
       "      <th>536</th>\n",
       "      <td>5645737</td>\n",
       "      <td>1900.0</td>\n",
       "    </tr>\n",
       "    <tr>\n",
       "      <th>537</th>\n",
       "      <td>5651566</td>\n",
       "      <td>1900.0</td>\n",
       "    </tr>\n",
       "    <tr>\n",
       "      <th>538</th>\n",
       "      <td>5662322</td>\n",
       "      <td>1900.0</td>\n",
       "    </tr>\n",
       "    <tr>\n",
       "      <th>539</th>\n",
       "      <td>5681918</td>\n",
       "      <td>1900.0</td>\n",
       "    </tr>\n",
       "    <tr>\n",
       "      <th>540</th>\n",
       "      <td>5740903</td>\n",
       "      <td>1900.0</td>\n",
       "    </tr>\n",
       "  </tbody>\n",
       "</table>\n",
       "<p>541 rows × 2 columns</p>\n",
       "</div>"
      ],
      "text/plain": [
       "          id     rev\n",
       "0       1627   990.0\n",
       "1       3185   690.0\n",
       "2      25973   690.0\n",
       "3      26280   690.0\n",
       "4     100300   990.0\n",
       "..       ...     ...\n",
       "536  5645737  1900.0\n",
       "537  5651566  1900.0\n",
       "538  5662322  1900.0\n",
       "539  5681918  1900.0\n",
       "540  5740903  1900.0\n",
       "\n",
       "[541 rows x 2 columns]"
      ]
     },
     "execution_count": 13,
     "metadata": {},
     "output_type": "execute_result"
    }
   ],
   "source": [
    "checks_df"
   ]
  },
  {
   "cell_type": "markdown",
   "metadata": {},
   "source": [
    "## Разведочный анализ"
   ]
  },
  {
   "cell_type": "markdown",
   "metadata": {},
   "source": [
    "### Качество данных"
   ]
  },
  {
   "cell_type": "markdown",
   "metadata": {},
   "source": [
    "#### Типы данных"
   ]
  },
  {
   "cell_type": "code",
   "execution_count": 14,
   "metadata": {},
   "outputs": [
    {
     "data": {
      "text/plain": [
       "id      int64\n",
       "grp    object\n",
       "dtype: object"
      ]
     },
     "execution_count": 14,
     "metadata": {},
     "output_type": "execute_result"
    }
   ],
   "source": [
    "ids_df.dtypes"
   ]
  },
  {
   "cell_type": "code",
   "execution_count": 15,
   "metadata": {},
   "outputs": [
    {
     "data": {
      "text/plain": [
       "id      int64\n",
       "grp    object\n",
       "dtype: object"
      ]
     },
     "execution_count": 15,
     "metadata": {},
     "output_type": "execute_result"
    }
   ],
   "source": [
    "ids_add_df.dtypes"
   ]
  },
  {
   "cell_type": "code",
   "execution_count": 16,
   "metadata": {},
   "outputs": [
    {
     "data": {
      "text/plain": [
       "id    int64\n",
       "dtype: object"
      ]
     },
     "execution_count": 16,
     "metadata": {},
     "output_type": "execute_result"
    }
   ],
   "source": [
    "users_df.dtypes"
   ]
  },
  {
   "cell_type": "code",
   "execution_count": 17,
   "metadata": {},
   "outputs": [
    {
     "data": {
      "text/plain": [
       "id       int64\n",
       "rev    float64\n",
       "dtype: object"
      ]
     },
     "execution_count": 17,
     "metadata": {},
     "output_type": "execute_result"
    }
   ],
   "source": [
    "checks_df.dtypes"
   ]
  },
  {
   "cell_type": "markdown",
   "metadata": {},
   "source": [
    "#### Дубли по id"
   ]
  },
  {
   "cell_type": "code",
   "execution_count": 18,
   "metadata": {},
   "outputs": [
    {
     "data": {
      "text/plain": [
       "0"
      ]
     },
     "execution_count": 18,
     "metadata": {},
     "output_type": "execute_result"
    }
   ],
   "source": [
    "ids_df.id.nunique() - ids_df.id.count()"
   ]
  },
  {
   "cell_type": "code",
   "execution_count": 19,
   "metadata": {},
   "outputs": [
    {
     "data": {
      "text/plain": [
       "0"
      ]
     },
     "execution_count": 19,
     "metadata": {},
     "output_type": "execute_result"
    }
   ],
   "source": [
    "ids_add_df.id.nunique() - ids_add_df.id.count()"
   ]
  },
  {
   "cell_type": "code",
   "execution_count": 20,
   "metadata": {},
   "outputs": [
    {
     "data": {
      "text/plain": [
       "0"
      ]
     },
     "execution_count": 20,
     "metadata": {},
     "output_type": "execute_result"
    }
   ],
   "source": [
    "users_df.id.nunique() - users_df.id.count()"
   ]
  },
  {
   "cell_type": "code",
   "execution_count": 21,
   "metadata": {},
   "outputs": [
    {
     "data": {
      "text/plain": [
       "0"
      ]
     },
     "execution_count": 21,
     "metadata": {},
     "output_type": "execute_result"
    }
   ],
   "source": [
    "checks_df.id.nunique() - checks_df.id.count()"
   ]
  },
  {
   "cell_type": "markdown",
   "metadata": {},
   "source": [
    "Дублей id в исходных df нет"
   ]
  },
  {
   "cell_type": "code",
   "execution_count": 22,
   "metadata": {},
   "outputs": [],
   "source": [
    "ids_all_df = pd.concat([ids_df, ids_add_df])  # Все id"
   ]
  },
  {
   "cell_type": "code",
   "execution_count": 23,
   "metadata": {},
   "outputs": [
    {
     "data": {
      "text/html": [
       "<div>\n",
       "<style scoped>\n",
       "    .dataframe tbody tr th:only-of-type {\n",
       "        vertical-align: middle;\n",
       "    }\n",
       "\n",
       "    .dataframe tbody tr th {\n",
       "        vertical-align: top;\n",
       "    }\n",
       "\n",
       "    .dataframe thead th {\n",
       "        text-align: right;\n",
       "    }\n",
       "</style>\n",
       "<table border=\"1\" class=\"dataframe\">\n",
       "  <thead>\n",
       "    <tr style=\"text-align: right;\">\n",
       "      <th></th>\n",
       "      <th>id</th>\n",
       "      <th>grp</th>\n",
       "    </tr>\n",
       "  </thead>\n",
       "  <tbody>\n",
       "    <tr>\n",
       "      <th>0</th>\n",
       "      <td>1489</td>\n",
       "      <td>B</td>\n",
       "    </tr>\n",
       "    <tr>\n",
       "      <th>1</th>\n",
       "      <td>1627</td>\n",
       "      <td>A</td>\n",
       "    </tr>\n",
       "    <tr>\n",
       "      <th>2</th>\n",
       "      <td>1768</td>\n",
       "      <td>B</td>\n",
       "    </tr>\n",
       "    <tr>\n",
       "      <th>3</th>\n",
       "      <td>1783</td>\n",
       "      <td>B</td>\n",
       "    </tr>\n",
       "    <tr>\n",
       "      <th>4</th>\n",
       "      <td>1794</td>\n",
       "      <td>A</td>\n",
       "    </tr>\n",
       "    <tr>\n",
       "      <th>...</th>\n",
       "      <td>...</td>\n",
       "      <td>...</td>\n",
       "    </tr>\n",
       "    <tr>\n",
       "      <th>87</th>\n",
       "      <td>200247820</td>\n",
       "      <td>B</td>\n",
       "    </tr>\n",
       "    <tr>\n",
       "      <th>88</th>\n",
       "      <td>201032527</td>\n",
       "      <td>B</td>\n",
       "    </tr>\n",
       "    <tr>\n",
       "      <th>89</th>\n",
       "      <td>201067612</td>\n",
       "      <td>B</td>\n",
       "    </tr>\n",
       "    <tr>\n",
       "      <th>90</th>\n",
       "      <td>201067653</td>\n",
       "      <td>B</td>\n",
       "    </tr>\n",
       "    <tr>\n",
       "      <th>91</th>\n",
       "      <td>201067659</td>\n",
       "      <td>B</td>\n",
       "    </tr>\n",
       "  </tbody>\n",
       "</table>\n",
       "<p>74576 rows × 2 columns</p>\n",
       "</div>"
      ],
      "text/plain": [
       "           id grp\n",
       "0        1489   B\n",
       "1        1627   A\n",
       "2        1768   B\n",
       "3        1783   B\n",
       "4        1794   A\n",
       "..        ...  ..\n",
       "87  200247820   B\n",
       "88  201032527   B\n",
       "89  201067612   B\n",
       "90  201067653   B\n",
       "91  201067659   B\n",
       "\n",
       "[74576 rows x 2 columns]"
      ]
     },
     "execution_count": 23,
     "metadata": {},
     "output_type": "execute_result"
    }
   ],
   "source": [
    "ids_all_df"
   ]
  },
  {
   "cell_type": "code",
   "execution_count": 24,
   "metadata": {},
   "outputs": [
    {
     "data": {
      "text/plain": [
       "74576"
      ]
     },
     "execution_count": 24,
     "metadata": {},
     "output_type": "execute_result"
    }
   ],
   "source": [
    "# Проверка\n",
    "ids_df.id.count() + ids_add_df.id.count()"
   ]
  },
  {
   "cell_type": "code",
   "execution_count": 25,
   "metadata": {},
   "outputs": [
    {
     "data": {
      "text/plain": [
       "0"
      ]
     },
     "execution_count": 25,
     "metadata": {},
     "output_type": "execute_result"
    }
   ],
   "source": [
    "ids_all_df.id.nunique() - ids_all_df.id.count()"
   ]
  },
  {
   "cell_type": "markdown",
   "metadata": {},
   "source": [
    "Дублей id нет"
   ]
  },
  {
   "cell_type": "markdown",
   "metadata": {},
   "source": [
    "#### Наличие инфы по дополнительным id"
   ]
  },
  {
   "cell_type": "code",
   "execution_count": 26,
   "metadata": {},
   "outputs": [
    {
     "data": {
      "text/plain": [
       "13"
      ]
     },
     "execution_count": 26,
     "metadata": {},
     "output_type": "execute_result"
    }
   ],
   "source": [
    "ids_add_df.merge(users_df, on='id').shape[0]"
   ]
  },
  {
   "cell_type": "code",
   "execution_count": 27,
   "metadata": {},
   "outputs": [
    {
     "data": {
      "text/plain": [
       "1"
      ]
     },
     "execution_count": 27,
     "metadata": {},
     "output_type": "execute_result"
    }
   ],
   "source": [
    "ids_add_df.merge(checks_df, on='id').shape[0]"
   ]
  },
  {
   "cell_type": "markdown",
   "metadata": {},
   "source": [
    "Информация по входам/транзакциям дополнительных пользователей имеется"
   ]
  },
  {
   "cell_type": "markdown",
   "metadata": {},
   "source": [
    "#### В рядах пользователей лишь известные id?"
   ]
  },
  {
   "cell_type": "code",
   "execution_count": 28,
   "metadata": {},
   "outputs": [
    {
     "data": {
      "text/plain": [
       "8341"
      ]
     },
     "execution_count": 28,
     "metadata": {},
     "output_type": "execute_result"
    }
   ],
   "source": [
    "users_df.shape[0]"
   ]
  },
  {
   "cell_type": "markdown",
   "metadata": {},
   "source": [
    "C учётом того, что дублей id в df нет"
   ]
  },
  {
   "cell_type": "code",
   "execution_count": 29,
   "metadata": {},
   "outputs": [
    {
     "data": {
      "text/plain": [
       "8341"
      ]
     },
     "execution_count": 29,
     "metadata": {},
     "output_type": "execute_result"
    }
   ],
   "source": [
    "users_df.merge(ids_all_df, on='id').shape[0]"
   ]
  },
  {
   "cell_type": "markdown",
   "metadata": {},
   "source": [
    "В рядах пользователей лишь известные id!"
   ]
  },
  {
   "cell_type": "markdown",
   "metadata": {},
   "source": [
    "#### Покупки совершали лишь известные пользователи?"
   ]
  },
  {
   "cell_type": "code",
   "execution_count": 30,
   "metadata": {},
   "outputs": [
    {
     "data": {
      "text/plain": [
       "541"
      ]
     },
     "execution_count": 30,
     "metadata": {},
     "output_type": "execute_result"
    }
   ],
   "source": [
    "checks_df.shape[0]"
   ]
  },
  {
   "cell_type": "markdown",
   "metadata": {},
   "source": [
    "C учётом того, что дублей id в df нет"
   ]
  },
  {
   "cell_type": "code",
   "execution_count": 31,
   "metadata": {},
   "outputs": [
    {
     "data": {
      "text/plain": [
       "392"
      ]
     },
     "execution_count": 31,
     "metadata": {},
     "output_type": "execute_result"
    }
   ],
   "source": [
    "checks_df.merge(users_df, on='id').shape[0]"
   ]
  },
  {
   "cell_type": "markdown",
   "metadata": {},
   "source": [
    "Покупки совершались под id, которые не указаны в df с пользователями"
   ]
  },
  {
   "cell_type": "markdown",
   "metadata": {},
   "source": [
    "id, которые отсутствуют в списке пользователей, но присутствуют в чеках"
   ]
  },
  {
   "cell_type": "code",
   "execution_count": 32,
   "metadata": {
    "scrolled": false
   },
   "outputs": [
    {
     "data": {
      "text/html": [
       "<div>\n",
       "<style scoped>\n",
       "    .dataframe tbody tr th:only-of-type {\n",
       "        vertical-align: middle;\n",
       "    }\n",
       "\n",
       "    .dataframe tbody tr th {\n",
       "        vertical-align: top;\n",
       "    }\n",
       "\n",
       "    .dataframe thead th {\n",
       "        text-align: right;\n",
       "    }\n",
       "</style>\n",
       "<table border=\"1\" class=\"dataframe\">\n",
       "  <thead>\n",
       "    <tr style=\"text-align: right;\">\n",
       "      <th></th>\n",
       "      <th>id</th>\n",
       "      <th>rev</th>\n",
       "    </tr>\n",
       "  </thead>\n",
       "  <tbody>\n",
       "    <tr>\n",
       "      <th>1</th>\n",
       "      <td>3185</td>\n",
       "      <td>690.0</td>\n",
       "    </tr>\n",
       "    <tr>\n",
       "      <th>2</th>\n",
       "      <td>25973</td>\n",
       "      <td>690.0</td>\n",
       "    </tr>\n",
       "    <tr>\n",
       "      <th>3</th>\n",
       "      <td>26280</td>\n",
       "      <td>690.0</td>\n",
       "    </tr>\n",
       "    <tr>\n",
       "      <th>5</th>\n",
       "      <td>100645</td>\n",
       "      <td>630.0</td>\n",
       "    </tr>\n",
       "    <tr>\n",
       "      <th>6</th>\n",
       "      <td>102534</td>\n",
       "      <td>580.0</td>\n",
       "    </tr>\n",
       "    <tr>\n",
       "      <th>...</th>\n",
       "      <td>...</td>\n",
       "      <td>...</td>\n",
       "    </tr>\n",
       "    <tr>\n",
       "      <th>508</th>\n",
       "      <td>5291900</td>\n",
       "      <td>199.0</td>\n",
       "    </tr>\n",
       "    <tr>\n",
       "      <th>512</th>\n",
       "      <td>5331842</td>\n",
       "      <td>290.0</td>\n",
       "    </tr>\n",
       "    <tr>\n",
       "      <th>521</th>\n",
       "      <td>5486319</td>\n",
       "      <td>199.0</td>\n",
       "    </tr>\n",
       "    <tr>\n",
       "      <th>530</th>\n",
       "      <td>5562806</td>\n",
       "      <td>398.0</td>\n",
       "    </tr>\n",
       "    <tr>\n",
       "      <th>534</th>\n",
       "      <td>5599663</td>\n",
       "      <td>1900.0</td>\n",
       "    </tr>\n",
       "  </tbody>\n",
       "</table>\n",
       "<p>149 rows × 2 columns</p>\n",
       "</div>"
      ],
      "text/plain": [
       "          id     rev\n",
       "1       3185   690.0\n",
       "2      25973   690.0\n",
       "3      26280   690.0\n",
       "5     100645   630.0\n",
       "6     102534   580.0\n",
       "..       ...     ...\n",
       "508  5291900   199.0\n",
       "512  5331842   290.0\n",
       "521  5486319   199.0\n",
       "530  5562806   398.0\n",
       "534  5599663  1900.0\n",
       "\n",
       "[149 rows x 2 columns]"
      ]
     },
     "execution_count": 32,
     "metadata": {},
     "output_type": "execute_result"
    }
   ],
   "source": [
    "# id, которые присутствуют в списке пользователей и чеках\n",
    "good_ids = checks_df.merge(users_df, on='id').id.to_list()\n",
    "anomaly_ids_df = (\n",
    "    checks_df\n",
    "    .merge(users_df, on='id', how='left')\n",
    "    .query('id not in @good_ids')\n",
    ")\n",
    "anomaly_ids_df"
   ]
  },
  {
   "cell_type": "code",
   "execution_count": 33,
   "metadata": {},
   "outputs": [
    {
     "data": {
      "text/plain": [
       "0"
      ]
     },
     "execution_count": 33,
     "metadata": {},
     "output_type": "execute_result"
    }
   ],
   "source": [
    "# Проверка\n",
    "checks_df.merge(users_df, on='id').shape[0] + anomaly_ids_df.shape[0] - checks_df.shape[0]"
   ]
  },
  {
   "cell_type": "markdown",
   "metadata": {},
   "source": [
    "Проверка, что для всех аномальных покупок указана выручка"
   ]
  },
  {
   "cell_type": "code",
   "execution_count": 34,
   "metadata": {},
   "outputs": [
    {
     "data": {
      "text/plain": [
       "0"
      ]
     },
     "execution_count": 34,
     "metadata": {},
     "output_type": "execute_result"
    }
   ],
   "source": [
    "anomaly_ids_df.rev.isna().sum()"
   ]
  },
  {
   "cell_type": "markdown",
   "metadata": {},
   "source": [
    "Следовательно, имеются аномальные покупки (с id пользователей, которые не заходили в день проведения эксперимента). При этом для всех аномальных покупок указана выручка"
   ]
  },
  {
   "cell_type": "markdown",
   "metadata": {},
   "source": [
    "#### Есть ли эти аномальные id в исходном списке?"
   ]
  },
  {
   "cell_type": "markdown",
   "metadata": {},
   "source": [
    "C учётом того, что дублей id в df нет"
   ]
  },
  {
   "cell_type": "code",
   "execution_count": 35,
   "metadata": {
    "scrolled": false
   },
   "outputs": [
    {
     "data": {
      "text/html": [
       "<div>\n",
       "<style scoped>\n",
       "    .dataframe tbody tr th:only-of-type {\n",
       "        vertical-align: middle;\n",
       "    }\n",
       "\n",
       "    .dataframe tbody tr th {\n",
       "        vertical-align: top;\n",
       "    }\n",
       "\n",
       "    .dataframe thead th {\n",
       "        text-align: right;\n",
       "    }\n",
       "</style>\n",
       "<table border=\"1\" class=\"dataframe\">\n",
       "  <thead>\n",
       "    <tr style=\"text-align: right;\">\n",
       "      <th></th>\n",
       "      <th>id</th>\n",
       "      <th>grp</th>\n",
       "      <th>rev</th>\n",
       "    </tr>\n",
       "  </thead>\n",
       "  <tbody>\n",
       "    <tr>\n",
       "      <th>0</th>\n",
       "      <td>3185</td>\n",
       "      <td>B</td>\n",
       "      <td>690.0</td>\n",
       "    </tr>\n",
       "    <tr>\n",
       "      <th>1</th>\n",
       "      <td>25973</td>\n",
       "      <td>B</td>\n",
       "      <td>690.0</td>\n",
       "    </tr>\n",
       "    <tr>\n",
       "      <th>2</th>\n",
       "      <td>26280</td>\n",
       "      <td>B</td>\n",
       "      <td>690.0</td>\n",
       "    </tr>\n",
       "    <tr>\n",
       "      <th>3</th>\n",
       "      <td>100645</td>\n",
       "      <td>B</td>\n",
       "      <td>630.0</td>\n",
       "    </tr>\n",
       "    <tr>\n",
       "      <th>4</th>\n",
       "      <td>102534</td>\n",
       "      <td>B</td>\n",
       "      <td>580.0</td>\n",
       "    </tr>\n",
       "    <tr>\n",
       "      <th>...</th>\n",
       "      <td>...</td>\n",
       "      <td>...</td>\n",
       "      <td>...</td>\n",
       "    </tr>\n",
       "    <tr>\n",
       "      <th>144</th>\n",
       "      <td>5291900</td>\n",
       "      <td>B</td>\n",
       "      <td>199.0</td>\n",
       "    </tr>\n",
       "    <tr>\n",
       "      <th>145</th>\n",
       "      <td>5331842</td>\n",
       "      <td>B</td>\n",
       "      <td>290.0</td>\n",
       "    </tr>\n",
       "    <tr>\n",
       "      <th>146</th>\n",
       "      <td>5486319</td>\n",
       "      <td>B</td>\n",
       "      <td>199.0</td>\n",
       "    </tr>\n",
       "    <tr>\n",
       "      <th>147</th>\n",
       "      <td>5562806</td>\n",
       "      <td>B</td>\n",
       "      <td>398.0</td>\n",
       "    </tr>\n",
       "    <tr>\n",
       "      <th>148</th>\n",
       "      <td>5599663</td>\n",
       "      <td>B</td>\n",
       "      <td>1900.0</td>\n",
       "    </tr>\n",
       "  </tbody>\n",
       "</table>\n",
       "<p>149 rows × 3 columns</p>\n",
       "</div>"
      ],
      "text/plain": [
       "          id grp     rev\n",
       "0       3185   B   690.0\n",
       "1      25973   B   690.0\n",
       "2      26280   B   690.0\n",
       "3     100645   B   630.0\n",
       "4     102534   B   580.0\n",
       "..       ...  ..     ...\n",
       "144  5291900   B   199.0\n",
       "145  5331842   B   290.0\n",
       "146  5486319   B   199.0\n",
       "147  5562806   B   398.0\n",
       "148  5599663   B  1900.0\n",
       "\n",
       "[149 rows x 3 columns]"
      ]
     },
     "execution_count": 35,
     "metadata": {},
     "output_type": "execute_result"
    }
   ],
   "source": [
    "ids_all_df.merge(anomaly_ids_df, on='id')"
   ]
  },
  {
   "cell_type": "code",
   "execution_count": 36,
   "metadata": {},
   "outputs": [
    {
     "data": {
      "text/plain": [
       "149"
      ]
     },
     "execution_count": 36,
     "metadata": {},
     "output_type": "execute_result"
    }
   ],
   "source": [
    "anomaly_ids_df.id.nunique()"
   ]
  },
  {
   "cell_type": "markdown",
   "metadata": {},
   "source": [
    "Все аномальные id есть в исходном списке"
   ]
  },
  {
   "cell_type": "code",
   "execution_count": 37,
   "metadata": {},
   "outputs": [
    {
     "data": {
      "text/html": [
       "<div>\n",
       "<style scoped>\n",
       "    .dataframe tbody tr th:only-of-type {\n",
       "        vertical-align: middle;\n",
       "    }\n",
       "\n",
       "    .dataframe tbody tr th {\n",
       "        vertical-align: top;\n",
       "    }\n",
       "\n",
       "    .dataframe thead th {\n",
       "        text-align: right;\n",
       "    }\n",
       "</style>\n",
       "<table border=\"1\" class=\"dataframe\">\n",
       "  <thead>\n",
       "    <tr style=\"text-align: right;\">\n",
       "      <th></th>\n",
       "      <th>id</th>\n",
       "      <th>grp</th>\n",
       "      <th>rev</th>\n",
       "    </tr>\n",
       "  </thead>\n",
       "  <tbody>\n",
       "    <tr>\n",
       "      <th>0</th>\n",
       "      <td>3185</td>\n",
       "      <td>B</td>\n",
       "      <td>690.0</td>\n",
       "    </tr>\n",
       "    <tr>\n",
       "      <th>1</th>\n",
       "      <td>25973</td>\n",
       "      <td>B</td>\n",
       "      <td>690.0</td>\n",
       "    </tr>\n",
       "    <tr>\n",
       "      <th>2</th>\n",
       "      <td>26280</td>\n",
       "      <td>B</td>\n",
       "      <td>690.0</td>\n",
       "    </tr>\n",
       "    <tr>\n",
       "      <th>3</th>\n",
       "      <td>100645</td>\n",
       "      <td>B</td>\n",
       "      <td>630.0</td>\n",
       "    </tr>\n",
       "    <tr>\n",
       "      <th>4</th>\n",
       "      <td>102534</td>\n",
       "      <td>B</td>\n",
       "      <td>580.0</td>\n",
       "    </tr>\n",
       "    <tr>\n",
       "      <th>...</th>\n",
       "      <td>...</td>\n",
       "      <td>...</td>\n",
       "      <td>...</td>\n",
       "    </tr>\n",
       "    <tr>\n",
       "      <th>144</th>\n",
       "      <td>5291900</td>\n",
       "      <td>B</td>\n",
       "      <td>199.0</td>\n",
       "    </tr>\n",
       "    <tr>\n",
       "      <th>145</th>\n",
       "      <td>5331842</td>\n",
       "      <td>B</td>\n",
       "      <td>290.0</td>\n",
       "    </tr>\n",
       "    <tr>\n",
       "      <th>146</th>\n",
       "      <td>5486319</td>\n",
       "      <td>B</td>\n",
       "      <td>199.0</td>\n",
       "    </tr>\n",
       "    <tr>\n",
       "      <th>147</th>\n",
       "      <td>5562806</td>\n",
       "      <td>B</td>\n",
       "      <td>398.0</td>\n",
       "    </tr>\n",
       "    <tr>\n",
       "      <th>148</th>\n",
       "      <td>5599663</td>\n",
       "      <td>B</td>\n",
       "      <td>1900.0</td>\n",
       "    </tr>\n",
       "  </tbody>\n",
       "</table>\n",
       "<p>149 rows × 3 columns</p>\n",
       "</div>"
      ],
      "text/plain": [
       "          id grp     rev\n",
       "0       3185   B   690.0\n",
       "1      25973   B   690.0\n",
       "2      26280   B   690.0\n",
       "3     100645   B   630.0\n",
       "4     102534   B   580.0\n",
       "..       ...  ..     ...\n",
       "144  5291900   B   199.0\n",
       "145  5331842   B   290.0\n",
       "146  5486319   B   199.0\n",
       "147  5562806   B   398.0\n",
       "148  5599663   B  1900.0\n",
       "\n",
       "[149 rows x 3 columns]"
      ]
     },
     "execution_count": 37,
     "metadata": {},
     "output_type": "execute_result"
    }
   ],
   "source": [
    "ids_df.merge(anomaly_ids_df, on='id')"
   ]
  },
  {
   "cell_type": "markdown",
   "metadata": {},
   "source": [
    "Все аномальные id находятся в списке id до их дополнения (в groups.csv)"
   ]
  },
  {
   "cell_type": "code",
   "execution_count": 38,
   "metadata": {},
   "outputs": [
    {
     "data": {
      "text/html": [
       "<div>\n",
       "<style scoped>\n",
       "    .dataframe tbody tr th:only-of-type {\n",
       "        vertical-align: middle;\n",
       "    }\n",
       "\n",
       "    .dataframe tbody tr th {\n",
       "        vertical-align: top;\n",
       "    }\n",
       "\n",
       "    .dataframe thead th {\n",
       "        text-align: right;\n",
       "    }\n",
       "</style>\n",
       "<table border=\"1\" class=\"dataframe\">\n",
       "  <thead>\n",
       "    <tr style=\"text-align: right;\">\n",
       "      <th></th>\n",
       "      <th>id</th>\n",
       "      <th>grp</th>\n",
       "      <th>rev</th>\n",
       "    </tr>\n",
       "  </thead>\n",
       "  <tbody>\n",
       "  </tbody>\n",
       "</table>\n",
       "</div>"
      ],
      "text/plain": [
       "Empty DataFrame\n",
       "Columns: [id, grp, rev]\n",
       "Index: []"
      ]
     },
     "execution_count": 38,
     "metadata": {},
     "output_type": "execute_result"
    }
   ],
   "source": [
    "ids_add_df.merge(anomaly_ids_df, on='id')"
   ]
  },
  {
   "cell_type": "code",
   "execution_count": 39,
   "metadata": {},
   "outputs": [
    {
     "data": {
      "text/plain": [
       "grp\n",
       "A     29\n",
       "B    120\n",
       "Name: id, dtype: int64"
      ]
     },
     "execution_count": 39,
     "metadata": {},
     "output_type": "execute_result"
    }
   ],
   "source": [
    "ids_df.merge(anomaly_ids_df, on='id').groupby('grp').id.count()"
   ]
  },
  {
   "cell_type": "markdown",
   "metadata": {},
   "source": [
    "Все аномальные id присутствуют в исходном списке (имеются как в контрольной, так и в тестовой выборке) => скорее всего система записи пользователей (зашедших в день эксперимента) работает некорректно (предполагается, что корректность записи чеков можно определить сравнением дохода по checks_df и финансовому отчёту за данный период)"
   ]
  },
  {
   "cell_type": "markdown",
   "metadata": {},
   "source": [
    "Вывод: использовать users_df нецелесообразно (например, для  расчёта метрики CR в покупку)"
   ]
  },
  {
   "cell_type": "markdown",
   "metadata": {},
   "source": [
    "### Информационная нагрузка в данных"
   ]
  },
  {
   "cell_type": "markdown",
   "metadata": {},
   "source": [
    "C учётом того, что дублей id в df нет"
   ]
  },
  {
   "cell_type": "markdown",
   "metadata": {},
   "source": [
    "#### Размеры групп по id"
   ]
  },
  {
   "cell_type": "code",
   "execution_count": 40,
   "metadata": {
    "scrolled": true
   },
   "outputs": [
    {
     "data": {
      "text/html": [
       "<div>\n",
       "<style scoped>\n",
       "    .dataframe tbody tr th:only-of-type {\n",
       "        vertical-align: middle;\n",
       "    }\n",
       "\n",
       "    .dataframe tbody tr th {\n",
       "        vertical-align: top;\n",
       "    }\n",
       "\n",
       "    .dataframe thead th {\n",
       "        text-align: right;\n",
       "    }\n",
       "</style>\n",
       "<table border=\"1\" class=\"dataframe\">\n",
       "  <thead>\n",
       "    <tr style=\"text-align: right;\">\n",
       "      <th></th>\n",
       "      <th>size</th>\n",
       "    </tr>\n",
       "    <tr>\n",
       "      <th>grp</th>\n",
       "      <th></th>\n",
       "    </tr>\n",
       "  </thead>\n",
       "  <tbody>\n",
       "    <tr>\n",
       "      <th>A</th>\n",
       "      <td>14693</td>\n",
       "    </tr>\n",
       "    <tr>\n",
       "      <th>B</th>\n",
       "      <td>59883</td>\n",
       "    </tr>\n",
       "  </tbody>\n",
       "</table>\n",
       "</div>"
      ],
      "text/plain": [
       "      size\n",
       "grp       \n",
       "A    14693\n",
       "B    59883"
      ]
     },
     "execution_count": 40,
     "metadata": {},
     "output_type": "execute_result"
    }
   ],
   "source": [
    "id_grp_size = (\n",
    "    ids_all_df.groupby('grp').id.count()\n",
    "    .to_frame().rename(columns={'id': 'size'})\n",
    ")\n",
    "id_grp_size"
   ]
  },
  {
   "cell_type": "code",
   "execution_count": 41,
   "metadata": {},
   "outputs": [
    {
     "data": {
      "text/plain": [
       "0.245"
      ]
     },
     "execution_count": 41,
     "metadata": {},
     "output_type": "execute_result"
    }
   ],
   "source": [
    "float((id_grp_size.loc['A'] / id_grp_size.loc['B']).round(3))\n",
    "# A / B ="
   ]
  },
  {
   "cell_type": "code",
   "execution_count": 42,
   "metadata": {},
   "outputs": [
    {
     "data": {
      "text/plain": [
       "0"
      ]
     },
     "execution_count": 42,
     "metadata": {},
     "output_type": "execute_result"
    }
   ],
   "source": [
    "# Проверка\n",
    "int(id_grp_size.sum()) - int(ids_all_df.id.count())"
   ]
  },
  {
   "cell_type": "markdown",
   "metadata": {},
   "source": [
    "#### Размеры групп по пользователям"
   ]
  },
  {
   "cell_type": "code",
   "execution_count": 43,
   "metadata": {},
   "outputs": [
    {
     "data": {
      "text/html": [
       "<div>\n",
       "<style scoped>\n",
       "    .dataframe tbody tr th:only-of-type {\n",
       "        vertical-align: middle;\n",
       "    }\n",
       "\n",
       "    .dataframe tbody tr th {\n",
       "        vertical-align: top;\n",
       "    }\n",
       "\n",
       "    .dataframe thead th {\n",
       "        text-align: right;\n",
       "    }\n",
       "</style>\n",
       "<table border=\"1\" class=\"dataframe\">\n",
       "  <thead>\n",
       "    <tr style=\"text-align: right;\">\n",
       "      <th></th>\n",
       "      <th>size</th>\n",
       "    </tr>\n",
       "    <tr>\n",
       "      <th>grp</th>\n",
       "      <th></th>\n",
       "    </tr>\n",
       "  </thead>\n",
       "  <tbody>\n",
       "    <tr>\n",
       "      <th>A</th>\n",
       "      <td>1538</td>\n",
       "    </tr>\n",
       "    <tr>\n",
       "      <th>B</th>\n",
       "      <td>6803</td>\n",
       "    </tr>\n",
       "  </tbody>\n",
       "</table>\n",
       "</div>"
      ],
      "text/plain": [
       "     size\n",
       "grp      \n",
       "A    1538\n",
       "B    6803"
      ]
     },
     "execution_count": 43,
     "metadata": {},
     "output_type": "execute_result"
    }
   ],
   "source": [
    "user_grp_size = (\n",
    "    ids_all_df.merge(users_df)\n",
    "    .groupby('grp').id.count()\n",
    "    .to_frame().rename(columns={'id': 'size'})\n",
    ")\n",
    "user_grp_size"
   ]
  },
  {
   "cell_type": "code",
   "execution_count": 44,
   "metadata": {},
   "outputs": [
    {
     "data": {
      "text/plain": [
       "0.226"
      ]
     },
     "execution_count": 44,
     "metadata": {},
     "output_type": "execute_result"
    }
   ],
   "source": [
    "float((user_grp_size.loc['A'] / user_grp_size.loc['B']).round(3))\n",
    "# A / B ="
   ]
  },
  {
   "cell_type": "code",
   "execution_count": 45,
   "metadata": {},
   "outputs": [
    {
     "data": {
      "text/plain": [
       "0"
      ]
     },
     "execution_count": 45,
     "metadata": {},
     "output_type": "execute_result"
    }
   ],
   "source": [
    "# Проверка\n",
    "int(user_grp_size.sum()) - int(users_df.id.count())"
   ]
  },
  {
   "cell_type": "markdown",
   "metadata": {},
   "source": [
    "#### Размеры групп по клиентам"
   ]
  },
  {
   "cell_type": "code",
   "execution_count": 46,
   "metadata": {},
   "outputs": [
    {
     "data": {
      "text/html": [
       "<div>\n",
       "<style scoped>\n",
       "    .dataframe tbody tr th:only-of-type {\n",
       "        vertical-align: middle;\n",
       "    }\n",
       "\n",
       "    .dataframe tbody tr th {\n",
       "        vertical-align: top;\n",
       "    }\n",
       "\n",
       "    .dataframe thead th {\n",
       "        text-align: right;\n",
       "    }\n",
       "</style>\n",
       "<table border=\"1\" class=\"dataframe\">\n",
       "  <thead>\n",
       "    <tr style=\"text-align: right;\">\n",
       "      <th></th>\n",
       "      <th>size</th>\n",
       "    </tr>\n",
       "    <tr>\n",
       "      <th>grp</th>\n",
       "      <th></th>\n",
       "    </tr>\n",
       "  </thead>\n",
       "  <tbody>\n",
       "    <tr>\n",
       "      <th>A</th>\n",
       "      <td>107</td>\n",
       "    </tr>\n",
       "    <tr>\n",
       "      <th>B</th>\n",
       "      <td>434</td>\n",
       "    </tr>\n",
       "  </tbody>\n",
       "</table>\n",
       "</div>"
      ],
      "text/plain": [
       "     size\n",
       "grp      \n",
       "A     107\n",
       "B     434"
      ]
     },
     "execution_count": 46,
     "metadata": {},
     "output_type": "execute_result"
    }
   ],
   "source": [
    "client_grp_size = (\n",
    "    ids_all_df.merge(checks_df)\n",
    "    .groupby('grp').id.count()\n",
    "    .to_frame().rename(columns={'id': 'size'})\n",
    ")\n",
    "client_grp_size"
   ]
  },
  {
   "cell_type": "code",
   "execution_count": 47,
   "metadata": {},
   "outputs": [
    {
     "data": {
      "text/plain": [
       "0.247"
      ]
     },
     "execution_count": 47,
     "metadata": {},
     "output_type": "execute_result"
    }
   ],
   "source": [
    "float((client_grp_size.loc['A'] / client_grp_size.loc['B']).round(3))\n",
    "# A / B ="
   ]
  },
  {
   "cell_type": "code",
   "execution_count": 48,
   "metadata": {},
   "outputs": [
    {
     "data": {
      "text/plain": [
       "0"
      ]
     },
     "execution_count": 48,
     "metadata": {},
     "output_type": "execute_result"
    }
   ],
   "source": [
    "# Проверка\n",
    "int(client_grp_size.sum()) - int(checks_df.id.count())"
   ]
  },
  {
   "cell_type": "markdown",
   "metadata": {},
   "source": [
    "Вывод: контрольная группа, представленная в df ~ в 4 раза меньше, чем тестовая (что странно - мб снижение мощности тестов)"
   ]
  },
  {
   "cell_type": "markdown",
   "metadata": {},
   "source": [
    "#### Описательная статистика клиентов"
   ]
  },
  {
   "cell_type": "code",
   "execution_count": 49,
   "metadata": {},
   "outputs": [
    {
     "data": {
      "text/html": [
       "<div>\n",
       "<style scoped>\n",
       "    .dataframe tbody tr th:only-of-type {\n",
       "        vertical-align: middle;\n",
       "    }\n",
       "\n",
       "    .dataframe tbody tr th {\n",
       "        vertical-align: top;\n",
       "    }\n",
       "\n",
       "    .dataframe thead th {\n",
       "        text-align: right;\n",
       "    }\n",
       "</style>\n",
       "<table border=\"1\" class=\"dataframe\">\n",
       "  <thead>\n",
       "    <tr style=\"text-align: right;\">\n",
       "      <th></th>\n",
       "      <th>id</th>\n",
       "      <th>rev</th>\n",
       "      <th>grp</th>\n",
       "    </tr>\n",
       "  </thead>\n",
       "  <tbody>\n",
       "    <tr>\n",
       "      <th>0</th>\n",
       "      <td>1627</td>\n",
       "      <td>990.0</td>\n",
       "      <td>A</td>\n",
       "    </tr>\n",
       "    <tr>\n",
       "      <th>1</th>\n",
       "      <td>3185</td>\n",
       "      <td>690.0</td>\n",
       "      <td>B</td>\n",
       "    </tr>\n",
       "    <tr>\n",
       "      <th>2</th>\n",
       "      <td>25973</td>\n",
       "      <td>690.0</td>\n",
       "      <td>B</td>\n",
       "    </tr>\n",
       "    <tr>\n",
       "      <th>3</th>\n",
       "      <td>26280</td>\n",
       "      <td>690.0</td>\n",
       "      <td>B</td>\n",
       "    </tr>\n",
       "    <tr>\n",
       "      <th>4</th>\n",
       "      <td>100300</td>\n",
       "      <td>990.0</td>\n",
       "      <td>B</td>\n",
       "    </tr>\n",
       "    <tr>\n",
       "      <th>...</th>\n",
       "      <td>...</td>\n",
       "      <td>...</td>\n",
       "      <td>...</td>\n",
       "    </tr>\n",
       "    <tr>\n",
       "      <th>536</th>\n",
       "      <td>5645737</td>\n",
       "      <td>1900.0</td>\n",
       "      <td>B</td>\n",
       "    </tr>\n",
       "    <tr>\n",
       "      <th>537</th>\n",
       "      <td>5651566</td>\n",
       "      <td>1900.0</td>\n",
       "      <td>B</td>\n",
       "    </tr>\n",
       "    <tr>\n",
       "      <th>538</th>\n",
       "      <td>5662322</td>\n",
       "      <td>1900.0</td>\n",
       "      <td>B</td>\n",
       "    </tr>\n",
       "    <tr>\n",
       "      <th>539</th>\n",
       "      <td>5681918</td>\n",
       "      <td>1900.0</td>\n",
       "      <td>B</td>\n",
       "    </tr>\n",
       "    <tr>\n",
       "      <th>540</th>\n",
       "      <td>5740903</td>\n",
       "      <td>1900.0</td>\n",
       "      <td>B</td>\n",
       "    </tr>\n",
       "  </tbody>\n",
       "</table>\n",
       "<p>541 rows × 3 columns</p>\n",
       "</div>"
      ],
      "text/plain": [
       "          id     rev grp\n",
       "0       1627   990.0   A\n",
       "1       3185   690.0   B\n",
       "2      25973   690.0   B\n",
       "3      26280   690.0   B\n",
       "4     100300   990.0   B\n",
       "..       ...     ...  ..\n",
       "536  5645737  1900.0   B\n",
       "537  5651566  1900.0   B\n",
       "538  5662322  1900.0   B\n",
       "539  5681918  1900.0   B\n",
       "540  5740903  1900.0   B\n",
       "\n",
       "[541 rows x 3 columns]"
      ]
     },
     "execution_count": 49,
     "metadata": {},
     "output_type": "execute_result"
    }
   ],
   "source": [
    "clients_df = checks_df.merge(ids_all_df, on='id')\n",
    "clients_df"
   ]
  },
  {
   "cell_type": "markdown",
   "metadata": {},
   "source": [
    "Контрольная группа"
   ]
  },
  {
   "cell_type": "code",
   "execution_count": 50,
   "metadata": {},
   "outputs": [
    {
     "data": {
      "text/html": [
       "<div>\n",
       "<style scoped>\n",
       "    .dataframe tbody tr th:only-of-type {\n",
       "        vertical-align: middle;\n",
       "    }\n",
       "\n",
       "    .dataframe tbody tr th {\n",
       "        vertical-align: top;\n",
       "    }\n",
       "\n",
       "    .dataframe thead th {\n",
       "        text-align: right;\n",
       "    }\n",
       "</style>\n",
       "<table border=\"1\" class=\"dataframe\">\n",
       "  <thead>\n",
       "    <tr style=\"text-align: right;\">\n",
       "      <th></th>\n",
       "      <th>id</th>\n",
       "      <th>rev</th>\n",
       "    </tr>\n",
       "  </thead>\n",
       "  <tbody>\n",
       "    <tr>\n",
       "      <th>count</th>\n",
       "      <td>1.070000e+02</td>\n",
       "      <td>107.000000</td>\n",
       "    </tr>\n",
       "    <tr>\n",
       "      <th>mean</th>\n",
       "      <td>2.576894e+06</td>\n",
       "      <td>860.710280</td>\n",
       "    </tr>\n",
       "    <tr>\n",
       "      <th>std</th>\n",
       "      <td>1.793022e+06</td>\n",
       "      <td>815.893445</td>\n",
       "    </tr>\n",
       "    <tr>\n",
       "      <th>min</th>\n",
       "      <td>1.627000e+03</td>\n",
       "      <td>199.000000</td>\n",
       "    </tr>\n",
       "    <tr>\n",
       "      <th>25%</th>\n",
       "      <td>9.773465e+05</td>\n",
       "      <td>290.000000</td>\n",
       "    </tr>\n",
       "    <tr>\n",
       "      <th>50%</th>\n",
       "      <td>2.480939e+06</td>\n",
       "      <td>690.000000</td>\n",
       "    </tr>\n",
       "    <tr>\n",
       "      <th>75%</th>\n",
       "      <td>4.289137e+06</td>\n",
       "      <td>990.000000</td>\n",
       "    </tr>\n",
       "    <tr>\n",
       "      <th>max</th>\n",
       "      <td>5.577840e+06</td>\n",
       "      <td>3660.000000</td>\n",
       "    </tr>\n",
       "  </tbody>\n",
       "</table>\n",
       "</div>"
      ],
      "text/plain": [
       "                 id          rev\n",
       "count  1.070000e+02   107.000000\n",
       "mean   2.576894e+06   860.710280\n",
       "std    1.793022e+06   815.893445\n",
       "min    1.627000e+03   199.000000\n",
       "25%    9.773465e+05   290.000000\n",
       "50%    2.480939e+06   690.000000\n",
       "75%    4.289137e+06   990.000000\n",
       "max    5.577840e+06  3660.000000"
      ]
     },
     "execution_count": 50,
     "metadata": {},
     "output_type": "execute_result"
    }
   ],
   "source": [
    "clients_a_df = clients_df.query('grp == \"A\"')\n",
    "clients_a_df.describe()"
   ]
  },
  {
   "cell_type": "markdown",
   "metadata": {},
   "source": [
    "Тестовая группа"
   ]
  },
  {
   "cell_type": "code",
   "execution_count": 51,
   "metadata": {},
   "outputs": [
    {
     "data": {
      "text/html": [
       "<div>\n",
       "<style scoped>\n",
       "    .dataframe tbody tr th:only-of-type {\n",
       "        vertical-align: middle;\n",
       "    }\n",
       "\n",
       "    .dataframe tbody tr th {\n",
       "        vertical-align: top;\n",
       "    }\n",
       "\n",
       "    .dataframe thead th {\n",
       "        text-align: right;\n",
       "    }\n",
       "</style>\n",
       "<table border=\"1\" class=\"dataframe\">\n",
       "  <thead>\n",
       "    <tr style=\"text-align: right;\">\n",
       "      <th></th>\n",
       "      <th>id</th>\n",
       "      <th>rev</th>\n",
       "    </tr>\n",
       "  </thead>\n",
       "  <tbody>\n",
       "    <tr>\n",
       "      <th>count</th>\n",
       "      <td>4.340000e+02</td>\n",
       "      <td>434.000000</td>\n",
       "    </tr>\n",
       "    <tr>\n",
       "      <th>mean</th>\n",
       "      <td>2.499456e+06</td>\n",
       "      <td>1108.824893</td>\n",
       "    </tr>\n",
       "    <tr>\n",
       "      <th>std</th>\n",
       "      <td>1.711912e+06</td>\n",
       "      <td>741.834304</td>\n",
       "    </tr>\n",
       "    <tr>\n",
       "      <th>min</th>\n",
       "      <td>3.185000e+03</td>\n",
       "      <td>199.000000</td>\n",
       "    </tr>\n",
       "    <tr>\n",
       "      <th>25%</th>\n",
       "      <td>9.935570e+05</td>\n",
       "      <td>420.750000</td>\n",
       "    </tr>\n",
       "    <tr>\n",
       "      <th>50%</th>\n",
       "      <td>2.526589e+06</td>\n",
       "      <td>935.000000</td>\n",
       "    </tr>\n",
       "    <tr>\n",
       "      <th>75%</th>\n",
       "      <td>3.956213e+06</td>\n",
       "      <td>1900.000000</td>\n",
       "    </tr>\n",
       "    <tr>\n",
       "      <th>max</th>\n",
       "      <td>5.740903e+06</td>\n",
       "      <td>4650.000000</td>\n",
       "    </tr>\n",
       "  </tbody>\n",
       "</table>\n",
       "</div>"
      ],
      "text/plain": [
       "                 id          rev\n",
       "count  4.340000e+02   434.000000\n",
       "mean   2.499456e+06  1108.824893\n",
       "std    1.711912e+06   741.834304\n",
       "min    3.185000e+03   199.000000\n",
       "25%    9.935570e+05   420.750000\n",
       "50%    2.526589e+06   935.000000\n",
       "75%    3.956213e+06  1900.000000\n",
       "max    5.740903e+06  4650.000000"
      ]
     },
     "execution_count": 51,
     "metadata": {},
     "output_type": "execute_result"
    }
   ],
   "source": [
    "clients_b_df = clients_df.query('grp == \"B\"')\n",
    "clients_b_df.describe()"
   ]
  },
  {
   "cell_type": "markdown",
   "metadata": {},
   "source": [
    "- средний/медианный чек больше у тестовой группы"
   ]
  },
  {
   "cell_type": "code",
   "execution_count": 52,
   "metadata": {},
   "outputs": [
    {
     "data": {
      "image/png": "[encoded data removed]",
      "text/plain": [
       "<Figure size 500x400 with 1 Axes>"
      ]
     },
     "metadata": {},
     "output_type": "display_data"
    }
   ],
   "source": [
    "sns.histplot(data=clients_df, x='rev', hue='grp', stat='probability', common_norm=False);"
   ]
  },
  {
   "cell_type": "markdown",
   "metadata": {},
   "source": [
    "- распределения имеют НЕ нормальный вид\n",
    "- распределение B не логнормальное (логарифмировать смысла нет)\n",
    "- заметна значительная разица распределений для rev ~2000 (что странно, но аномалии замечено не было)"
   ]
  },
  {
   "cell_type": "code",
   "execution_count": 53,
   "metadata": {},
   "outputs": [
    {
     "data": {
      "text/html": [
       "<div>\n",
       "<style scoped>\n",
       "    .dataframe tbody tr th:only-of-type {\n",
       "        vertical-align: middle;\n",
       "    }\n",
       "\n",
       "    .dataframe tbody tr th {\n",
       "        vertical-align: top;\n",
       "    }\n",
       "\n",
       "    .dataframe thead th {\n",
       "        text-align: right;\n",
       "    }\n",
       "</style>\n",
       "<table border=\"1\" class=\"dataframe\">\n",
       "  <thead>\n",
       "    <tr style=\"text-align: right;\">\n",
       "      <th></th>\n",
       "      <th>rev</th>\n",
       "      <th>id</th>\n",
       "    </tr>\n",
       "  </thead>\n",
       "  <tbody>\n",
       "    <tr>\n",
       "      <th>0</th>\n",
       "      <td>199.0000</td>\n",
       "      <td>12</td>\n",
       "    </tr>\n",
       "    <tr>\n",
       "      <th>1</th>\n",
       "      <td>290.0000</td>\n",
       "      <td>18</td>\n",
       "    </tr>\n",
       "    <tr>\n",
       "      <th>2</th>\n",
       "      <td>398.0000</td>\n",
       "      <td>1</td>\n",
       "    </tr>\n",
       "    <tr>\n",
       "      <th>3</th>\n",
       "      <td>580.0000</td>\n",
       "      <td>4</td>\n",
       "    </tr>\n",
       "    <tr>\n",
       "      <th>4</th>\n",
       "      <td>630.0000</td>\n",
       "      <td>1</td>\n",
       "    </tr>\n",
       "    <tr>\n",
       "      <th>5</th>\n",
       "      <td>690.0000</td>\n",
       "      <td>46</td>\n",
       "    </tr>\n",
       "    <tr>\n",
       "      <th>6</th>\n",
       "      <td>840.0000</td>\n",
       "      <td>3</td>\n",
       "    </tr>\n",
       "    <tr>\n",
       "      <th>7</th>\n",
       "      <td>990.0000</td>\n",
       "      <td>18</td>\n",
       "    </tr>\n",
       "    <tr>\n",
       "      <th>8</th>\n",
       "      <td>1140.0000</td>\n",
       "      <td>11</td>\n",
       "    </tr>\n",
       "    <tr>\n",
       "      <th>9</th>\n",
       "      <td>1180.0000</td>\n",
       "      <td>1</td>\n",
       "    </tr>\n",
       "    <tr>\n",
       "      <th>10</th>\n",
       "      <td>1900.0000</td>\n",
       "      <td>4</td>\n",
       "    </tr>\n",
       "    <tr>\n",
       "      <th>11</th>\n",
       "      <td>1900.0001</td>\n",
       "      <td>1</td>\n",
       "    </tr>\n",
       "  </tbody>\n",
       "</table>\n",
       "</div>"
      ],
      "text/plain": [
       "          rev  id\n",
       "0    199.0000  12\n",
       "1    290.0000  18\n",
       "2    398.0000   1\n",
       "3    580.0000   4\n",
       "4    630.0000   1\n",
       "5    690.0000  46\n",
       "6    840.0000   3\n",
       "7    990.0000  18\n",
       "8   1140.0000  11\n",
       "9   1180.0000   1\n",
       "10  1900.0000   4\n",
       "11  1900.0001   1"
      ]
     },
     "execution_count": 53,
     "metadata": {},
     "output_type": "execute_result"
    }
   ],
   "source": [
    "# Аномальные чеки для тестовой выборки\n",
    "ids_all_df.merge(anomaly_ids_df, on='id').query('grp == \"B\"').groupby('rev', as_index=False).id.count()"
   ]
  },
  {
   "cell_type": "code",
   "execution_count": 54,
   "metadata": {},
   "outputs": [
    {
     "data": {
      "image/png": "[encoded data removed]",
      "text/plain": [
       "<Figure size 500x400 with 1 Axes>"
      ]
     },
     "metadata": {},
     "output_type": "display_data"
    }
   ],
   "source": [
    "sns.boxplot(data=clients_df, x='rev', y='grp');"
   ]
  },
  {
   "cell_type": "markdown",
   "metadata": {},
   "source": [
    "- имеются потенциальные выбросы"
   ]
  },
  {
   "cell_type": "markdown",
   "metadata": {},
   "source": [
    "Проверка на гомогенность дисперсий выборок"
   ]
  },
  {
   "cell_type": "code",
   "execution_count": 55,
   "metadata": {},
   "outputs": [
    {
     "data": {
      "text/plain": [
       "LeveneResult(statistic=4.478900854248498, pvalue=0.03477352573759214)"
      ]
     },
     "execution_count": 55,
     "metadata": {},
     "output_type": "execute_result"
    }
   ],
   "source": [
    "ss.levene(clients_a_df.rev, clients_b_df.rev)"
   ]
  },
  {
   "cell_type": "markdown",
   "metadata": {},
   "source": [
    "- p-value < 0.05 => дисперсии распределений неоднородны"
   ]
  },
  {
   "cell_type": "markdown",
   "metadata": {},
   "source": [
    "Уникальные значения выручки по чекам в группах"
   ]
  },
  {
   "cell_type": "code",
   "execution_count": 56,
   "metadata": {},
   "outputs": [
    {
     "name": "stdout",
     "output_type": "stream",
     "text": [
      "Контрольная.\t Всего: 107. Уникальных: 23\n",
      "Тестовая.\t Всего: 434. Уникальных: 35\n"
     ]
    }
   ],
   "source": [
    "print(f\"Контрольная.\\t Всего: {clients_a_df.rev.count()}. Уникальных: {clients_a_df.rev.nunique()}\")\n",
    "print(f\"Тестовая.\\t Всего: {clients_b_df.rev.count()}. Уникальных: {clients_b_df.rev.nunique()}\")"
   ]
  },
  {
   "cell_type": "markdown",
   "metadata": {},
   "source": [
    "## A/B тест\n",
    "### План\n",
    "1) Какие метрики выбрать для сравнения?  \n",
    "\n",
    "2) Имеются ли различия в группах? Возможные причины?  \n",
    "\n",
    "3) Являются ли различия статистически значимыми?  \n",
    "\n",
    "4) Стоит ли запускать новую механику на всех пользователей?  \n"
   ]
  },
  {
   "cell_type": "markdown",
   "metadata": {},
   "source": [
    "### 1) Какие метрики выбрать для сравнения?\n",
    "Основная цель компании - увеличение прибыли  \n",
    "Модель юнит-экономики:  \n",
    "$MarginalProfit = Users * CR * (ARPPU * margin - CAC)$ \n",
    "\n",
    "Неизменные в эксперименте метрики:\n",
    "- $Users$ - изменение механики оплаты с большой вероятностью не отразится на количестве пользователей, которые заходят на сайт\n",
    "- $margin$ - изменение механики оплаты никак не влияет на цену и себестоимость товаров\n",
    "- $CAC$ - изменение механики оплаты не связано с расходами на привлечение клиентов\n",
    "\n",
    "Метрики, которые могли повлиять на $MarginalProfit$:\n",
    "- $ARPPU$ (и связанные с ней)\n",
    "- $CR$ в покупку (и связанные с ней)\n",
    "\n",
    "Метрика $CR$ в покупку не подходит для анализа, тк предполагается ошибка в составлении df с пользователями, зашедшими в день эксперимента"
   ]
  },
  {
   "cell_type": "markdown",
   "metadata": {},
   "source": [
    "### 2,3) Имеются ли статзначимые различия в группах? Причины\n",
    "- Распределения чеков в группах имеют ощутимое количество повторов (особенно в тестовой) => применение теста Манна-Уитни является сомнительной идеей  \n",
    "- Обычный t-тест неприменим в силу неоднородности дисперсий\n",
    "- t-тест с поправкой Уэлча может быть неприменим в силу наличия потенциальных выбросов\n",
    "\n",
    "Поэтому наиболее оптимальным вариантом для сравнения групп видится bootstrap"
   ]
  },
  {
   "cell_type": "code",
   "execution_count": 57,
   "metadata": {},
   "outputs": [],
   "source": [
    "def bootstrap_test(\n",
    "    s1,\n",
    "    s2,\n",
    "    n_ss=5000,\n",
    "    statistic_func=np.mean,\n",
    "    conf_level=0.95,\n",
    "    hist_n_bins=100,\n",
    "    p_val_evaluation=False,\n",
    "    print_info=True\n",
    "):\n",
    "    '''\n",
    "    Функция для проверки гипотез с помощью bootstrap\n",
    "    \n",
    "    Parameters\n",
    "    ----------\n",
    "    s1: pandas.Series\n",
    "        Выборка 1\n",
    "    s2: pandas.Series\n",
    "        Выборка 2\n",
    "    n_ss: int, default 5000\n",
    "        Количество bootstrap подвыборок (bootstrab subsamples)\n",
    "        bootstrap подвыборка - подвыборка с повторениями\n",
    "    statistic_func: function, default np.mean\n",
    "        Функция для вычисления интересующей статистики\n",
    "    conf_level: float, default 0.95\n",
    "        Уровень значимости\n",
    "    hist_n_bins: int, default 100\n",
    "        Количество столбиков для гистограммы\n",
    "    p_val_evaluation: bool, default False\n",
    "        Оценка p-value с помощью нормального распределения\n",
    "    print_info: bool, default True\n",
    "        Вывод на экран информации (в т.ч. красивого графика)\n",
    "        \n",
    "    Returns\n",
    "    -------\n",
    "    is_0_in_ci: bool\n",
    "        Находится ли 0 в ДИ\n",
    "    boot_data: pandas.Series\n",
    "        Расрпределение разницы метрик бутстрап выборок\n",
    "    quantiles: dict\n",
    "        Словарь с квантилями\n",
    "    '''\n",
    "    # Размер бутстрап подвыборок\n",
    "    ss1_size = len(s1)\n",
    "    ss2_size = len(s2)\n",
    "    \n",
    "    # Распределение разницы статистик подвыборок\n",
    "    boot_data = []\n",
    "    if print_info:\n",
    "        for i in tqdm(range(n_ss)):  # извлекаем подвыборки\n",
    "            ss1 = s1.sample(ss1_size, replace=True).values\n",
    "            ss2 = s2.sample(ss2_size, replace=True).values\n",
    "            boot_data.append(statistic_func(ss1)-statistic_func(ss2))\n",
    "    else:\n",
    "        for i in range(n_ss):  # извлекаем подвыборки\n",
    "            ss1 = s1.sample(ss1_size, replace=True).values\n",
    "            ss2 = s2.sample(ss2_size, replace=True).values\n",
    "            boot_data.append(statistic_func(ss1)-statistic_func(ss2))\n",
    "    \n",
    "    boot_data = pd.Series(boot_data)\n",
    "    \n",
    "    # Вычисление квантилей\n",
    "    left_quant = (1 - conf_level) / 2\n",
    "    right_quant = 1 - left_quant\n",
    "    quantiles = boot_data.quantile([left_quant, right_quant])\n",
    "    quantiles.columns = ['value']\n",
    "    \n",
    "    # Статзначимость отличий выборок\n",
    "    if quantiles.iloc[0] < 0 <= quantiles.iloc[1]:\n",
    "        is_0_in_ci = True\n",
    "    else:\n",
    "        is_0_in_ci = False\n",
    "    \n",
    "    # Вычисление p-value \n",
    "    # (из предположения, что распределение разницы статистик подвыборок - нормальное)\n",
    "    if p_val_evaluation:\n",
    "        p_1 = st.norm.cdf(\n",
    "            x=0,\n",
    "            loc=boot_data.mean(), \n",
    "            scale=boot_data.std()\n",
    "        )\n",
    "        p_2 = st.norm.cdf(\n",
    "            x=0, \n",
    "            loc=-boot_data.mean(),\n",
    "            scale=boot_data.std()\n",
    "        )\n",
    "        p_value = min(p_1, p_2) * 2  # Двустороння вероятность нулевых отличий распределений\n",
    "        \n",
    "    # Визуализация\n",
    "    if print_info:\n",
    "        hist_ys = []\n",
    "        _, _, bars = plt.hist(boot_data, bins=hist_n_bins)\n",
    "        for bar in bars:\n",
    "            hist_ys.append(bar.get_height())\n",
    "            bar.set_edgecolor('black')\n",
    "            if quantiles.iloc[0] < bar.get_x() <= quantiles.iloc[1]:\n",
    "                # Столбик в ДИ\n",
    "                bar.set_facecolor('grey')\n",
    "            else: \n",
    "                bar.set_facecolor('red')\n",
    "        plt.style.use('ggplot')\n",
    "        plt.vlines(quantiles, ymin=0, ymax=max(hist_ys), linestyle='--', colors='black')  # Отображение квантилей\n",
    "        if quantiles.iloc[0] < 0 <= quantiles.iloc[1]:  # Подсветка нуля\n",
    "            plt.vlines(0, ymin=0, ymax=max(hist_ys), colors='green')\n",
    "        else:\n",
    "            plt.vlines(0, ymin=0, ymax=max(hist_ys), colors='red')\n",
    "        plt.xlabel('metric difference')\n",
    "        plt.ylabel('frequency')\n",
    "        plt.title(\"Subsamples metric difference\")\n",
    "        plt.show()\n",
    "        if p_val_evaluation:\n",
    "            print(f'p-value: {p_value}')\n",
    "    \n",
    "    return is_0_in_ci, boot_data, quantiles"
   ]
  },
  {
   "cell_type": "code",
   "execution_count": 58,
   "metadata": {
    "scrolled": false
   },
   "outputs": [
    {
     "data": {
      "application/vnd.jupyter.widget-view+json": {
       "model_id": "43eee74a6cd5418d8157065b40b6d909",
       "version_major": 2,
       "version_minor": 0
      },
      "text/plain": [
       "  0%|          | 0/5000 [00:00<?, ?it/s]"
      ]
     },
     "metadata": {},
     "output_type": "display_data"
    },
    {
     "data": {
      "image/png": "[encoded data removed]",
      "text/plain": [
       "<Figure size 500x400 with 1 Axes>"
      ]
     },
     "metadata": {},
     "output_type": "display_data"
    }
   ],
   "source": [
    "_ = bootstrap_test(\n",
    "    clients_a_df.rev,\n",
    "    clients_b_df.rev\n",
    ")"
   ]
  },
  {
   "cell_type": "markdown",
   "metadata": {},
   "source": [
    "Как можно видеть имеются статзначимые различия в ARPPU между выборками"
   ]
  },
  {
   "cell_type": "code",
   "execution_count": 59,
   "metadata": {},
   "outputs": [
    {
     "data": {
      "text/plain": [
       "248.11461271372616"
      ]
     },
     "execution_count": 59,
     "metadata": {},
     "output_type": "execute_result"
    }
   ],
   "source": [
    "clients_b_df.rev.mean() - clients_a_df.rev.mean()"
   ]
  },
  {
   "cell_type": "markdown",
   "metadata": {},
   "source": [
    "### 4) Выводы\n",
    "- средний чек (ARPPU) больше в тестовой выборке\n",
    "- корректно оценить CR с текущими данными не представляется возможным\n",
    "- если CR ~ не изменился (или увеличился), то запускать новую механику на всех пользователей стоит\n",
    "- в идеале повторить эксперимент после проведения дополнительных исследований\n",
    "\n",
    "#### Необходимы дополнительные исследования\n",
    "- выяснить причину превосходства размера тестовой выборки над контрольной в несколько раз\n",
    "- провести исследование работы системы фиксации активности пользователя в период проведения эксперимента, т.к. скорее всего она работает некорректно (active_studs.csv)"
   ]
  },
  {
   "cell_type": "markdown",
   "metadata": {},
   "source": [
    "# Задание 2 (SQL)"
   ]
  },
  {
   "cell_type": "markdown",
   "metadata": {},
   "source": [
    "## 2.1. Очень усердные ученики\n",
    "### Условие\n",
    "#### Преамбола\n",
    "- Имеется образовательный курс\n",
    "- Каждое задание курса - \"горошина\"\n",
    "- очень усердный ученик - который за текущий месяц правильно решил 20 и более \"горошин\"\n",
    "\n",
    "#### Суть\n",
    "- Написать оптимальный запрос, который даст информацию о количестве очень усердных учеников"
   ]
  },
  {
   "cell_type": "markdown",
   "metadata": {},
   "source": [
    "### Данные\n",
    "#### Загрузка"
   ]
  },
  {
   "cell_type": "code",
   "execution_count": 60,
   "metadata": {},
   "outputs": [],
   "source": [
    "# # Через удалённый доступ к clickhouse\n",
    "# connection = {# Параметры для подключения к clickhouse\n",
    "#     'host': 'http://clickhouse.beslan.pro:8080',\n",
    "#     'database': 'default',\n",
    "#     'user': 'student', \n",
    "#     'password': 'dpo_python_2020'\n",
    "# }\n",
    "# query = \"\"\"\n",
    "# SELECT\n",
    "#     st_id,\n",
    "#     CAST(timest AS DateTime) AS timest,\n",
    "#     correct,\n",
    "#     subject\n",
    "# FROM peas\n",
    "# \"\"\"\n",
    "# peas_df = ph.read_clickhouse(query, connection=connection)\n",
    "# # peas_df.to_csv('peas.csv', index=False)"
   ]
  },
  {
   "cell_type": "code",
   "execution_count": 61,
   "metadata": {},
   "outputs": [
    {
     "data": {
      "text/html": [
       "<div>\n",
       "<style scoped>\n",
       "    .dataframe tbody tr th:only-of-type {\n",
       "        vertical-align: middle;\n",
       "    }\n",
       "\n",
       "    .dataframe tbody tr th {\n",
       "        vertical-align: top;\n",
       "    }\n",
       "\n",
       "    .dataframe thead th {\n",
       "        text-align: right;\n",
       "    }\n",
       "</style>\n",
       "<table border=\"1\" class=\"dataframe\">\n",
       "  <thead>\n",
       "    <tr style=\"text-align: right;\">\n",
       "      <th></th>\n",
       "      <th>Unnamed: 0</th>\n",
       "      <th>st_id</th>\n",
       "      <th>timest</th>\n",
       "      <th>correct</th>\n",
       "      <th>subject</th>\n",
       "    </tr>\n",
       "  </thead>\n",
       "  <tbody>\n",
       "    <tr>\n",
       "      <th>0</th>\n",
       "      <td>0</td>\n",
       "      <td>100379</td>\n",
       "      <td>2021-10-30 13:32:29</td>\n",
       "      <td>1</td>\n",
       "      <td>Theory of probability</td>\n",
       "    </tr>\n",
       "    <tr>\n",
       "      <th>1</th>\n",
       "      <td>1</td>\n",
       "      <td>100379</td>\n",
       "      <td>2021-10-30 14:11:19</td>\n",
       "      <td>0</td>\n",
       "      <td>Vizualization</td>\n",
       "    </tr>\n",
       "    <tr>\n",
       "      <th>2</th>\n",
       "      <td>2</td>\n",
       "      <td>100379</td>\n",
       "      <td>2021-10-30 15:54:22</td>\n",
       "      <td>1</td>\n",
       "      <td>Theory of probability</td>\n",
       "    </tr>\n",
       "    <tr>\n",
       "      <th>3</th>\n",
       "      <td>3</td>\n",
       "      <td>100379</td>\n",
       "      <td>2021-10-30 16:44:50</td>\n",
       "      <td>1</td>\n",
       "      <td>Vizualization</td>\n",
       "    </tr>\n",
       "    <tr>\n",
       "      <th>4</th>\n",
       "      <td>4</td>\n",
       "      <td>100379</td>\n",
       "      <td>2021-10-30 17:15:05</td>\n",
       "      <td>1</td>\n",
       "      <td>Theory of probability</td>\n",
       "    </tr>\n",
       "    <tr>\n",
       "      <th>...</th>\n",
       "      <td>...</td>\n",
       "      <td>...</td>\n",
       "      <td>...</td>\n",
       "      <td>...</td>\n",
       "      <td>...</td>\n",
       "    </tr>\n",
       "    <tr>\n",
       "      <th>13240</th>\n",
       "      <td>13240</td>\n",
       "      <td>996911</td>\n",
       "      <td>2021-10-31 08:41:00</td>\n",
       "      <td>1</td>\n",
       "      <td>Statistics</td>\n",
       "    </tr>\n",
       "    <tr>\n",
       "      <th>13241</th>\n",
       "      <td>13241</td>\n",
       "      <td>996911</td>\n",
       "      <td>2021-10-31 09:12:28</td>\n",
       "      <td>0</td>\n",
       "      <td>Statistics</td>\n",
       "    </tr>\n",
       "    <tr>\n",
       "      <th>13242</th>\n",
       "      <td>13242</td>\n",
       "      <td>996911</td>\n",
       "      <td>2021-10-31 09:33:39</td>\n",
       "      <td>0</td>\n",
       "      <td>Statistics</td>\n",
       "    </tr>\n",
       "    <tr>\n",
       "      <th>13243</th>\n",
       "      <td>13243</td>\n",
       "      <td>996911</td>\n",
       "      <td>2021-10-31 09:46:44</td>\n",
       "      <td>1</td>\n",
       "      <td>Statistics</td>\n",
       "    </tr>\n",
       "    <tr>\n",
       "      <th>13244</th>\n",
       "      <td>13244</td>\n",
       "      <td>996911</td>\n",
       "      <td>2021-10-31 11:15:24</td>\n",
       "      <td>0</td>\n",
       "      <td>Statistics</td>\n",
       "    </tr>\n",
       "  </tbody>\n",
       "</table>\n",
       "<p>13245 rows × 5 columns</p>\n",
       "</div>"
      ],
      "text/plain": [
       "       Unnamed: 0   st_id               timest  correct                subject\n",
       "0               0  100379  2021-10-30 13:32:29        1  Theory of probability\n",
       "1               1  100379  2021-10-30 14:11:19        0          Vizualization\n",
       "2               2  100379  2021-10-30 15:54:22        1  Theory of probability\n",
       "3               3  100379  2021-10-30 16:44:50        1          Vizualization\n",
       "4               4  100379  2021-10-30 17:15:05        1  Theory of probability\n",
       "...           ...     ...                  ...      ...                    ...\n",
       "13240       13240  996911  2021-10-31 08:41:00        1             Statistics\n",
       "13241       13241  996911  2021-10-31 09:12:28        0             Statistics\n",
       "13242       13242  996911  2021-10-31 09:33:39        0             Statistics\n",
       "13243       13243  996911  2021-10-31 09:46:44        1             Statistics\n",
       "13244       13244  996911  2021-10-31 11:15:24        0             Statistics\n",
       "\n",
       "[13245 rows x 5 columns]"
      ]
     },
     "execution_count": 61,
     "metadata": {},
     "output_type": "execute_result"
    }
   ],
   "source": [
    "peas_df = pd.read_csv('peas.csv')\n",
    "peas_df"
   ]
  },
  {
   "cell_type": "markdown",
   "metadata": {},
   "source": [
    "- st_id - ID ученика\n",
    "- temest - время решения карточки\n",
    "- correct - правлиьность решения \"горошины\"\n",
    "- subject - дисциплина, в которой находится \"горошина\""
   ]
  },
  {
   "cell_type": "markdown",
   "metadata": {},
   "source": [
    "### Решение\n",
    "#### Решение SQL"
   ]
  },
  {
   "cell_type": "markdown",
   "metadata": {},
   "source": [
    "Имеющиеся в таблице данные"
   ]
  },
  {
   "cell_type": "code",
   "execution_count": 62,
   "metadata": {},
   "outputs": [
    {
     "data": {
      "text/html": [
       "<div>\n",
       "<style scoped>\n",
       "    .dataframe tbody tr th:only-of-type {\n",
       "        vertical-align: middle;\n",
       "    }\n",
       "\n",
       "    .dataframe tbody tr th {\n",
       "        vertical-align: top;\n",
       "    }\n",
       "\n",
       "    .dataframe thead th {\n",
       "        text-align: right;\n",
       "    }\n",
       "</style>\n",
       "<table border=\"1\" class=\"dataframe\">\n",
       "  <thead>\n",
       "    <tr style=\"text-align: right;\">\n",
       "      <th></th>\n",
       "      <th>st_id</th>\n",
       "      <th>timest</th>\n",
       "      <th>correct</th>\n",
       "      <th>subject</th>\n",
       "    </tr>\n",
       "  </thead>\n",
       "  <tbody>\n",
       "    <tr>\n",
       "      <th>0</th>\n",
       "      <td>100379</td>\n",
       "      <td>2021</td>\n",
       "      <td>1</td>\n",
       "      <td>Theory of probability</td>\n",
       "    </tr>\n",
       "    <tr>\n",
       "      <th>1</th>\n",
       "      <td>100379</td>\n",
       "      <td>2021</td>\n",
       "      <td>0</td>\n",
       "      <td>Vizualization</td>\n",
       "    </tr>\n",
       "    <tr>\n",
       "      <th>2</th>\n",
       "      <td>100379</td>\n",
       "      <td>2021</td>\n",
       "      <td>1</td>\n",
       "      <td>Theory of probability</td>\n",
       "    </tr>\n",
       "    <tr>\n",
       "      <th>3</th>\n",
       "      <td>100379</td>\n",
       "      <td>2021</td>\n",
       "      <td>1</td>\n",
       "      <td>Vizualization</td>\n",
       "    </tr>\n",
       "    <tr>\n",
       "      <th>4</th>\n",
       "      <td>100379</td>\n",
       "      <td>2021</td>\n",
       "      <td>1</td>\n",
       "      <td>Theory of probability</td>\n",
       "    </tr>\n",
       "    <tr>\n",
       "      <th>...</th>\n",
       "      <td>...</td>\n",
       "      <td>...</td>\n",
       "      <td>...</td>\n",
       "      <td>...</td>\n",
       "    </tr>\n",
       "    <tr>\n",
       "      <th>13240</th>\n",
       "      <td>996911</td>\n",
       "      <td>2021</td>\n",
       "      <td>1</td>\n",
       "      <td>Statistics</td>\n",
       "    </tr>\n",
       "    <tr>\n",
       "      <th>13241</th>\n",
       "      <td>996911</td>\n",
       "      <td>2021</td>\n",
       "      <td>0</td>\n",
       "      <td>Statistics</td>\n",
       "    </tr>\n",
       "    <tr>\n",
       "      <th>13242</th>\n",
       "      <td>996911</td>\n",
       "      <td>2021</td>\n",
       "      <td>0</td>\n",
       "      <td>Statistics</td>\n",
       "    </tr>\n",
       "    <tr>\n",
       "      <th>13243</th>\n",
       "      <td>996911</td>\n",
       "      <td>2021</td>\n",
       "      <td>1</td>\n",
       "      <td>Statistics</td>\n",
       "    </tr>\n",
       "    <tr>\n",
       "      <th>13244</th>\n",
       "      <td>996911</td>\n",
       "      <td>2021</td>\n",
       "      <td>0</td>\n",
       "      <td>Statistics</td>\n",
       "    </tr>\n",
       "  </tbody>\n",
       "</table>\n",
       "<p>13245 rows × 4 columns</p>\n",
       "</div>"
      ],
      "text/plain": [
       "        st_id  timest  correct                subject\n",
       "0      100379    2021        1  Theory of probability\n",
       "1      100379    2021        0          Vizualization\n",
       "2      100379    2021        1  Theory of probability\n",
       "3      100379    2021        1          Vizualization\n",
       "4      100379    2021        1  Theory of probability\n",
       "...       ...     ...      ...                    ...\n",
       "13240  996911    2021        1             Statistics\n",
       "13241  996911    2021        0             Statistics\n",
       "13242  996911    2021        0             Statistics\n",
       "13243  996911    2021        1             Statistics\n",
       "13244  996911    2021        0             Statistics\n",
       "\n",
       "[13245 rows x 4 columns]"
      ]
     },
     "execution_count": 62,
     "metadata": {},
     "output_type": "execute_result"
    }
   ],
   "source": [
    "query = \"\"\"\n",
    "SELECT\n",
    "    st_id,\n",
    "    CAST(timest AS DateTime) AS timest,\n",
    "    correct,\n",
    "    subject\n",
    "FROM peas_df\n",
    "ORDER BY timest DESC\n",
    "\"\"\"\n",
    "ps.sqldf(query)"
   ]
  },
  {
   "cell_type": "markdown",
   "metadata": {},
   "source": [
    "Данные представлены лишь за один месяц"
   ]
  },
  {
   "cell_type": "markdown",
   "metadata": {},
   "source": [
    "Оптимальный запроос:"
   ]
  },
  {
   "cell_type": "code",
   "execution_count": 63,
   "metadata": {},
   "outputs": [
    {
     "data": {
      "text/html": [
       "<div>\n",
       "<style scoped>\n",
       "    .dataframe tbody tr th:only-of-type {\n",
       "        vertical-align: middle;\n",
       "    }\n",
       "\n",
       "    .dataframe tbody tr th {\n",
       "        vertical-align: top;\n",
       "    }\n",
       "\n",
       "    .dataframe thead th {\n",
       "        text-align: right;\n",
       "    }\n",
       "</style>\n",
       "<table border=\"1\" class=\"dataframe\">\n",
       "  <thead>\n",
       "    <tr style=\"text-align: right;\">\n",
       "      <th></th>\n",
       "      <th>diligence_st</th>\n",
       "    </tr>\n",
       "  </thead>\n",
       "  <tbody>\n",
       "    <tr>\n",
       "      <th>0</th>\n",
       "      <td>136</td>\n",
       "    </tr>\n",
       "  </tbody>\n",
       "</table>\n",
       "</div>"
      ],
      "text/plain": [
       "   diligence_st\n",
       "0           136"
      ]
     },
     "execution_count": 63,
     "metadata": {},
     "output_type": "execute_result"
    }
   ],
   "source": [
    "query = \"\"\"\n",
    "SELECT\n",
    "    SUM(flags) AS diligence_st\n",
    "FROM\n",
    "(\n",
    "    SELECT \n",
    "        SUM(correct) >= 20 AS flags\n",
    "    FROM peas_df\n",
    "    GROUP BY st_id\n",
    ")\n",
    "\"\"\"\n",
    "ps.sqldf(query)"
   ]
  },
  {
   "cell_type": "markdown",
   "metadata": {},
   "source": [
    "## 2.2. Оптимизация воронки\n",
    "### Условие\n",
    "- есть образовательная платформа\n",
    "- модель trial (бесплатная) - ограничение в 30 \"горошин\" в день\n",
    "- полный доступ - доступ к неограниченному количеству \"горошин\"\n",
    "- активный пользователь - который решил больше 10 задач правильно в любых дисциплинах\n",
    "- активный пользователь по математике - который за всё время решил 2 и более задач по математике\n",
    "\n",
    "### Задание\n",
    "В одном запросе выгрузить информацию по группам пользователей:\n",
    "- ARPU\n",
    "- ARPAU\n",
    "- CR в покупку\n",
    "- CR активного пользователя в покупку\n",
    "- CR пользователя из активности по математике (subject='math') в покупку курса по математике"
   ]
  },
  {
   "cell_type": "markdown",
   "metadata": {},
   "source": [
    "### Данные"
   ]
  },
  {
   "cell_type": "code",
   "execution_count": 64,
   "metadata": {},
   "outputs": [
    {
     "data": {
      "text/html": [
       "<div>\n",
       "<style scoped>\n",
       "    .dataframe tbody tr th:only-of-type {\n",
       "        vertical-align: middle;\n",
       "    }\n",
       "\n",
       "    .dataframe tbody tr th {\n",
       "        vertical-align: top;\n",
       "    }\n",
       "\n",
       "    .dataframe thead th {\n",
       "        text-align: right;\n",
       "    }\n",
       "</style>\n",
       "<table border=\"1\" class=\"dataframe\">\n",
       "  <thead>\n",
       "    <tr style=\"text-align: right;\">\n",
       "      <th></th>\n",
       "      <th>Unnamed: 0</th>\n",
       "      <th>st_id</th>\n",
       "      <th>test_grp</th>\n",
       "    </tr>\n",
       "  </thead>\n",
       "  <tbody>\n",
       "    <tr>\n",
       "      <th>0</th>\n",
       "      <td>0</td>\n",
       "      <td>100379</td>\n",
       "      <td>pilot</td>\n",
       "    </tr>\n",
       "    <tr>\n",
       "      <th>1</th>\n",
       "      <td>1</td>\n",
       "      <td>101432</td>\n",
       "      <td>control</td>\n",
       "    </tr>\n",
       "    <tr>\n",
       "      <th>2</th>\n",
       "      <td>2</td>\n",
       "      <td>104818</td>\n",
       "      <td>pilot</td>\n",
       "    </tr>\n",
       "    <tr>\n",
       "      <th>3</th>\n",
       "      <td>3</td>\n",
       "      <td>104885</td>\n",
       "      <td>pilot</td>\n",
       "    </tr>\n",
       "    <tr>\n",
       "      <th>4</th>\n",
       "      <td>4</td>\n",
       "      <td>104966</td>\n",
       "      <td>pilot</td>\n",
       "    </tr>\n",
       "    <tr>\n",
       "      <th>...</th>\n",
       "      <td>...</td>\n",
       "      <td>...</td>\n",
       "      <td>...</td>\n",
       "    </tr>\n",
       "    <tr>\n",
       "      <th>595</th>\n",
       "      <td>595</td>\n",
       "      <td>988626</td>\n",
       "      <td>pilot</td>\n",
       "    </tr>\n",
       "    <tr>\n",
       "      <th>596</th>\n",
       "      <td>596</td>\n",
       "      <td>993249</td>\n",
       "      <td>pilot</td>\n",
       "    </tr>\n",
       "    <tr>\n",
       "      <th>597</th>\n",
       "      <td>597</td>\n",
       "      <td>994983</td>\n",
       "      <td>pilot</td>\n",
       "    </tr>\n",
       "    <tr>\n",
       "      <th>598</th>\n",
       "      <td>598</td>\n",
       "      <td>996911</td>\n",
       "      <td>control</td>\n",
       "    </tr>\n",
       "    <tr>\n",
       "      <th>599</th>\n",
       "      <td>599</td>\n",
       "      <td>999201</td>\n",
       "      <td>pilot</td>\n",
       "    </tr>\n",
       "  </tbody>\n",
       "</table>\n",
       "<p>600 rows × 3 columns</p>\n",
       "</div>"
      ],
      "text/plain": [
       "     Unnamed: 0   st_id test_grp\n",
       "0             0  100379    pilot\n",
       "1             1  101432  control\n",
       "2             2  104818    pilot\n",
       "3             3  104885    pilot\n",
       "4             4  104966    pilot\n",
       "..          ...     ...      ...\n",
       "595         595  988626    pilot\n",
       "596         596  993249    pilot\n",
       "597         597  994983    pilot\n",
       "598         598  996911  control\n",
       "599         599  999201    pilot\n",
       "\n",
       "[600 rows x 3 columns]"
      ]
     },
     "execution_count": 64,
     "metadata": {},
     "output_type": "execute_result"
    }
   ],
   "source": [
    "studs_df = pd.read_csv('studs.csv')\n",
    "studs_df"
   ]
  },
  {
   "cell_type": "markdown",
   "metadata": {},
   "source": [
    "- test_grp - метка ученика в эксперименте"
   ]
  },
  {
   "cell_type": "code",
   "execution_count": 65,
   "metadata": {},
   "outputs": [
    {
     "data": {
      "text/html": [
       "<div>\n",
       "<style scoped>\n",
       "    .dataframe tbody tr th:only-of-type {\n",
       "        vertical-align: middle;\n",
       "    }\n",
       "\n",
       "    .dataframe tbody tr th {\n",
       "        vertical-align: top;\n",
       "    }\n",
       "\n",
       "    .dataframe thead th {\n",
       "        text-align: right;\n",
       "    }\n",
       "</style>\n",
       "<table border=\"1\" class=\"dataframe\">\n",
       "  <thead>\n",
       "    <tr style=\"text-align: right;\">\n",
       "      <th></th>\n",
       "      <th>Unnamed: 0</th>\n",
       "      <th>st_id</th>\n",
       "      <th>sale_time</th>\n",
       "      <th>money</th>\n",
       "      <th>subject</th>\n",
       "    </tr>\n",
       "  </thead>\n",
       "  <tbody>\n",
       "    <tr>\n",
       "      <th>0</th>\n",
       "      <td>0</td>\n",
       "      <td>101432</td>\n",
       "      <td>2021-10-31 04:44:32</td>\n",
       "      <td>85000</td>\n",
       "      <td>Math</td>\n",
       "    </tr>\n",
       "    <tr>\n",
       "      <th>1</th>\n",
       "      <td>1</td>\n",
       "      <td>101432</td>\n",
       "      <td>2021-10-31 12:43:50</td>\n",
       "      <td>65000</td>\n",
       "      <td>Vizualization</td>\n",
       "    </tr>\n",
       "    <tr>\n",
       "      <th>2</th>\n",
       "      <td>2</td>\n",
       "      <td>104885</td>\n",
       "      <td>2021-10-30 17:05:55</td>\n",
       "      <td>65000</td>\n",
       "      <td>Vizualization</td>\n",
       "    </tr>\n",
       "    <tr>\n",
       "      <th>3</th>\n",
       "      <td>3</td>\n",
       "      <td>104885</td>\n",
       "      <td>2021-10-30 22:49:33</td>\n",
       "      <td>75000</td>\n",
       "      <td>Statistics</td>\n",
       "    </tr>\n",
       "    <tr>\n",
       "      <th>4</th>\n",
       "      <td>4</td>\n",
       "      <td>106464</td>\n",
       "      <td>2021-10-31 13:17:13</td>\n",
       "      <td>85000</td>\n",
       "      <td>Math</td>\n",
       "    </tr>\n",
       "    <tr>\n",
       "      <th>...</th>\n",
       "      <td>...</td>\n",
       "      <td>...</td>\n",
       "      <td>...</td>\n",
       "      <td>...</td>\n",
       "      <td>...</td>\n",
       "    </tr>\n",
       "    <tr>\n",
       "      <th>56</th>\n",
       "      <td>56</td>\n",
       "      <td>969595</td>\n",
       "      <td>2021-10-30 23:54:52</td>\n",
       "      <td>65000</td>\n",
       "      <td>Vizualization</td>\n",
       "    </tr>\n",
       "    <tr>\n",
       "      <th>57</th>\n",
       "      <td>57</td>\n",
       "      <td>969595</td>\n",
       "      <td>2021-10-31 02:02:07</td>\n",
       "      <td>75000</td>\n",
       "      <td>Statistics</td>\n",
       "    </tr>\n",
       "    <tr>\n",
       "      <th>58</th>\n",
       "      <td>58</td>\n",
       "      <td>969595</td>\n",
       "      <td>2021-10-31 10:07:04</td>\n",
       "      <td>100000</td>\n",
       "      <td>Python</td>\n",
       "    </tr>\n",
       "    <tr>\n",
       "      <th>59</th>\n",
       "      <td>59</td>\n",
       "      <td>976866</td>\n",
       "      <td>2021-10-30 16:20:17</td>\n",
       "      <td>85000</td>\n",
       "      <td>Math</td>\n",
       "    </tr>\n",
       "    <tr>\n",
       "      <th>60</th>\n",
       "      <td>60</td>\n",
       "      <td>982100</td>\n",
       "      <td>2021-10-30 19:24:36</td>\n",
       "      <td>85000</td>\n",
       "      <td>Math</td>\n",
       "    </tr>\n",
       "  </tbody>\n",
       "</table>\n",
       "<p>61 rows × 5 columns</p>\n",
       "</div>"
      ],
      "text/plain": [
       "    Unnamed: 0   st_id            sale_time   money        subject\n",
       "0            0  101432  2021-10-31 04:44:32   85000           Math\n",
       "1            1  101432  2021-10-31 12:43:50   65000  Vizualization\n",
       "2            2  104885  2021-10-30 17:05:55   65000  Vizualization\n",
       "3            3  104885  2021-10-30 22:49:33   75000     Statistics\n",
       "4            4  106464  2021-10-31 13:17:13   85000           Math\n",
       "..         ...     ...                  ...     ...            ...\n",
       "56          56  969595  2021-10-30 23:54:52   65000  Vizualization\n",
       "57          57  969595  2021-10-31 02:02:07   75000     Statistics\n",
       "58          58  969595  2021-10-31 10:07:04  100000         Python\n",
       "59          59  976866  2021-10-30 16:20:17   85000           Math\n",
       "60          60  982100  2021-10-30 19:24:36   85000           Math\n",
       "\n",
       "[61 rows x 5 columns]"
      ]
     },
     "execution_count": 65,
     "metadata": {},
     "output_type": "execute_result"
    }
   ],
   "source": [
    "final_project_check_df = pd.read_csv('final_project_check.csv')\n",
    "final_project_check_df"
   ]
  },
  {
   "cell_type": "markdown",
   "metadata": {},
   "source": [
    "- sale_time - время покупки курса\n",
    "- money - цена курса"
   ]
  },
  {
   "cell_type": "markdown",
   "metadata": {},
   "source": [
    "### Разведочный анализ\n",
    "#### Проверка на уникальность id"
   ]
  },
  {
   "cell_type": "code",
   "execution_count": 66,
   "metadata": {},
   "outputs": [
    {
     "data": {
      "text/plain": [
       "13245"
      ]
     },
     "execution_count": 66,
     "metadata": {},
     "output_type": "execute_result"
    }
   ],
   "source": [
    "peas_df.shape[0]"
   ]
  },
  {
   "cell_type": "code",
   "execution_count": 67,
   "metadata": {},
   "outputs": [
    {
     "data": {
      "text/plain": [
       "308"
      ]
     },
     "execution_count": 67,
     "metadata": {},
     "output_type": "execute_result"
    }
   ],
   "source": [
    "peas_df.st_id.nunique()"
   ]
  },
  {
   "cell_type": "markdown",
   "metadata": {},
   "source": [
    "308 учеников суммарно решили 13245 задач (правильно/нет)"
   ]
  },
  {
   "cell_type": "code",
   "execution_count": 68,
   "metadata": {},
   "outputs": [
    {
     "data": {
      "text/plain": [
       "0"
      ]
     },
     "execution_count": 68,
     "metadata": {},
     "output_type": "execute_result"
    }
   ],
   "source": [
    "studs_df.shape[0] - studs_df.st_id.nunique()"
   ]
  },
  {
   "cell_type": "markdown",
   "metadata": {},
   "source": [
    "Все st_id в studs_df уникальны"
   ]
  },
  {
   "cell_type": "code",
   "execution_count": 69,
   "metadata": {},
   "outputs": [
    {
     "data": {
      "text/plain": [
       "61"
      ]
     },
     "execution_count": 69,
     "metadata": {},
     "output_type": "execute_result"
    }
   ],
   "source": [
    "final_project_check_df.shape[0]"
   ]
  },
  {
   "cell_type": "code",
   "execution_count": 70,
   "metadata": {},
   "outputs": [
    {
     "data": {
      "text/plain": [
       "47"
      ]
     },
     "execution_count": 70,
     "metadata": {},
     "output_type": "execute_result"
    }
   ],
   "source": [
    "final_project_check_df.st_id.nunique()"
   ]
  },
  {
   "cell_type": "markdown",
   "metadata": {},
   "source": [
    "47 учеников суммарно купили 61 курс => некоторые купили несколько курсов"
   ]
  },
  {
   "cell_type": "markdown",
   "metadata": {},
   "source": [
    "#### Проверка таблиц на непротиворечивость "
   ]
  },
  {
   "cell_type": "code",
   "execution_count": 71,
   "metadata": {},
   "outputs": [
    {
     "data": {
      "text/html": [
       "<div>\n",
       "<style scoped>\n",
       "    .dataframe tbody tr th:only-of-type {\n",
       "        vertical-align: middle;\n",
       "    }\n",
       "\n",
       "    .dataframe tbody tr th {\n",
       "        vertical-align: top;\n",
       "    }\n",
       "\n",
       "    .dataframe thead th {\n",
       "        text-align: right;\n",
       "    }\n",
       "</style>\n",
       "<table border=\"1\" class=\"dataframe\">\n",
       "  <thead>\n",
       "    <tr style=\"text-align: right;\">\n",
       "      <th></th>\n",
       "      <th>Unnamed: 0</th>\n",
       "      <th>st_id</th>\n",
       "      <th>timest</th>\n",
       "      <th>correct</th>\n",
       "      <th>subject</th>\n",
       "    </tr>\n",
       "  </thead>\n",
       "  <tbody>\n",
       "    <tr>\n",
       "      <th>0</th>\n",
       "      <td>0</td>\n",
       "      <td>100379</td>\n",
       "      <td>2021-10-30 13:32:29</td>\n",
       "      <td>1</td>\n",
       "      <td>Theory of probability</td>\n",
       "    </tr>\n",
       "    <tr>\n",
       "      <th>47</th>\n",
       "      <td>47</td>\n",
       "      <td>101432</td>\n",
       "      <td>2021-10-30 13:14:00</td>\n",
       "      <td>1</td>\n",
       "      <td>Theory of probability</td>\n",
       "    </tr>\n",
       "    <tr>\n",
       "      <th>75</th>\n",
       "      <td>75</td>\n",
       "      <td>104885</td>\n",
       "      <td>2021-10-30 16:51:48</td>\n",
       "      <td>0</td>\n",
       "      <td>Python</td>\n",
       "    </tr>\n",
       "    <tr>\n",
       "      <th>85</th>\n",
       "      <td>85</td>\n",
       "      <td>104966</td>\n",
       "      <td>2021-10-30 14:43:43</td>\n",
       "      <td>0</td>\n",
       "      <td>Vizualization</td>\n",
       "    </tr>\n",
       "    <tr>\n",
       "      <th>132</th>\n",
       "      <td>132</td>\n",
       "      <td>106464</td>\n",
       "      <td>2021-10-30 13:16:47</td>\n",
       "      <td>0</td>\n",
       "      <td>Math</td>\n",
       "    </tr>\n",
       "    <tr>\n",
       "      <th>...</th>\n",
       "      <td>...</td>\n",
       "      <td>...</td>\n",
       "      <td>...</td>\n",
       "      <td>...</td>\n",
       "      <td>...</td>\n",
       "    </tr>\n",
       "    <tr>\n",
       "      <th>13065</th>\n",
       "      <td>13065</td>\n",
       "      <td>986680</td>\n",
       "      <td>2021-10-30 16:53:23</td>\n",
       "      <td>0</td>\n",
       "      <td>Statistics</td>\n",
       "    </tr>\n",
       "    <tr>\n",
       "      <th>13097</th>\n",
       "      <td>13097</td>\n",
       "      <td>986894</td>\n",
       "      <td>2021-10-30 13:41:28</td>\n",
       "      <td>1</td>\n",
       "      <td>Python</td>\n",
       "    </tr>\n",
       "    <tr>\n",
       "      <th>13102</th>\n",
       "      <td>13102</td>\n",
       "      <td>988102</td>\n",
       "      <td>2021-10-30 13:11:19</td>\n",
       "      <td>1</td>\n",
       "      <td>Math</td>\n",
       "    </tr>\n",
       "    <tr>\n",
       "      <th>13119</th>\n",
       "      <td>13119</td>\n",
       "      <td>994983</td>\n",
       "      <td>2021-10-30 13:24:13</td>\n",
       "      <td>0</td>\n",
       "      <td>Vizualization</td>\n",
       "    </tr>\n",
       "    <tr>\n",
       "      <th>13210</th>\n",
       "      <td>13210</td>\n",
       "      <td>996911</td>\n",
       "      <td>2021-10-30 13:41:43</td>\n",
       "      <td>0</td>\n",
       "      <td>Statistics</td>\n",
       "    </tr>\n",
       "  </tbody>\n",
       "</table>\n",
       "<p>308 rows × 5 columns</p>\n",
       "</div>"
      ],
      "text/plain": [
       "       Unnamed: 0   st_id               timest  correct                subject\n",
       "0               0  100379  2021-10-30 13:32:29        1  Theory of probability\n",
       "47             47  101432  2021-10-30 13:14:00        1  Theory of probability\n",
       "75             75  104885  2021-10-30 16:51:48        0                 Python\n",
       "85             85  104966  2021-10-30 14:43:43        0          Vizualization\n",
       "132           132  106464  2021-10-30 13:16:47        0                   Math\n",
       "...           ...     ...                  ...      ...                    ...\n",
       "13065       13065  986680  2021-10-30 16:53:23        0             Statistics\n",
       "13097       13097  986894  2021-10-30 13:41:28        1                 Python\n",
       "13102       13102  988102  2021-10-30 13:11:19        1                   Math\n",
       "13119       13119  994983  2021-10-30 13:24:13        0          Vizualization\n",
       "13210       13210  996911  2021-10-30 13:41:43        0             Statistics\n",
       "\n",
       "[308 rows x 5 columns]"
      ]
     },
     "execution_count": 71,
     "metadata": {},
     "output_type": "execute_result"
    }
   ],
   "source": [
    "active_studs_df = peas_df.groupby('st_id').head(1)\n",
    "active_studs_df"
   ]
  },
  {
   "cell_type": "code",
   "execution_count": 72,
   "metadata": {},
   "outputs": [
    {
     "data": {
      "text/plain": [
       "(308, 7)"
      ]
     },
     "execution_count": 72,
     "metadata": {},
     "output_type": "execute_result"
    }
   ],
   "source": [
    "studs_df.merge(active_studs_df, on='st_id').shape"
   ]
  },
  {
   "cell_type": "markdown",
   "metadata": {},
   "source": [
    "Все ученики, приступавшие к заданиям имеются в списке учеников"
   ]
  },
  {
   "cell_type": "code",
   "execution_count": 73,
   "metadata": {},
   "outputs": [
    {
     "data": {
      "text/plain": [
       "(47, 2)"
      ]
     },
     "execution_count": 73,
     "metadata": {},
     "output_type": "execute_result"
    }
   ],
   "source": [
    "client_checks_df = final_project_check_df.groupby('st_id', as_index=False).money.sum()\n",
    "client_checks_df.shape"
   ]
  },
  {
   "cell_type": "code",
   "execution_count": 74,
   "metadata": {},
   "outputs": [
    {
     "data": {
      "text/plain": [
       "(47, 4)"
      ]
     },
     "execution_count": 74,
     "metadata": {},
     "output_type": "execute_result"
    }
   ],
   "source": [
    "studs_df.merge(client_checks_df, on='st_id').shape"
   ]
  },
  {
   "cell_type": "markdown",
   "metadata": {},
   "source": [
    "Все клиенты имеются в списке учеников"
   ]
  },
  {
   "cell_type": "markdown",
   "metadata": {},
   "source": [
    "#### Купившие курсы без выполнения заданий"
   ]
  },
  {
   "cell_type": "code",
   "execution_count": 75,
   "metadata": {},
   "outputs": [
    {
     "data": {
      "text/plain": [
       "2"
      ]
     },
     "execution_count": 75,
     "metadata": {},
     "output_type": "execute_result"
    }
   ],
   "source": [
    "client_checks_df.merge(active_studs_df, on='st_id', how='left').correct.isna().sum()"
   ]
  },
  {
   "cell_type": "markdown",
   "metadata": {},
   "source": [
    "2 ученика покупали курсы, не приступав к заданиям"
   ]
  },
  {
   "cell_type": "markdown",
   "metadata": {},
   "source": [
    "#### Группы пользователей"
   ]
  },
  {
   "cell_type": "code",
   "execution_count": 76,
   "metadata": {},
   "outputs": [
    {
     "data": {
      "text/plain": [
       "array(['pilot', 'control'], dtype=object)"
      ]
     },
     "execution_count": 76,
     "metadata": {},
     "output_type": "execute_result"
    }
   ],
   "source": [
    "studs_df.test_grp.unique()"
   ]
  },
  {
   "cell_type": "markdown",
   "metadata": {},
   "source": [
    "### Решение SQL"
   ]
  },
  {
   "cell_type": "code",
   "execution_count": 82,
   "metadata": {},
   "outputs": [
    {
     "data": {
      "text/html": [
       "<div>\n",
       "<style scoped>\n",
       "    .dataframe tbody tr th:only-of-type {\n",
       "        vertical-align: middle;\n",
       "    }\n",
       "\n",
       "    .dataframe tbody tr th {\n",
       "        vertical-align: top;\n",
       "    }\n",
       "\n",
       "    .dataframe thead th {\n",
       "        text-align: right;\n",
       "    }\n",
       "</style>\n",
       "<table border=\"1\" class=\"dataframe\">\n",
       "  <thead>\n",
       "    <tr style=\"text-align: right;\">\n",
       "      <th></th>\n",
       "      <th>grp</th>\n",
       "      <th>ARPU</th>\n",
       "      <th>ARPAU</th>\n",
       "      <th>CR</th>\n",
       "      <th>CR_active</th>\n",
       "      <th>CR_act_math</th>\n",
       "    </tr>\n",
       "  </thead>\n",
       "  <tbody>\n",
       "    <tr>\n",
       "      <th>0</th>\n",
       "      <td>control</td>\n",
       "      <td>4541.0</td>\n",
       "      <td>10393.7</td>\n",
       "      <td>4.9</td>\n",
       "      <td>11.0</td>\n",
       "      <td>6.1</td>\n",
       "    </tr>\n",
       "    <tr>\n",
       "      <th>1</th>\n",
       "      <td>pilot</td>\n",
       "      <td>11508.5</td>\n",
       "      <td>29739.6</td>\n",
       "      <td>10.8</td>\n",
       "      <td>26.0</td>\n",
       "      <td>9.5</td>\n",
       "    </tr>\n",
       "  </tbody>\n",
       "</table>\n",
       "</div>"
      ],
      "text/plain": [
       "       grp     ARPU    ARPAU    CR  CR_active  CR_act_math\n",
       "0  control   4541.0  10393.7   4.9       11.0          6.1\n",
       "1    pilot  11508.5  29739.6  10.8       26.0          9.5"
      ]
     },
     "execution_count": 82,
     "metadata": {},
     "output_type": "execute_result"
    }
   ],
   "source": [
    "query = \"\"\"\n",
    "WITH\n",
    "    user_checks AS\n",
    "    (\n",
    "        -- Таблица с чеками пользователей\n",
    "        SELECT\n",
    "            st_id,\n",
    "            MIN(grp) AS grp,\n",
    "            SUM(item_money) AS money,\n",
    "            SUM(item_money) > 0 AS bool_money -- Для расчёта CR\n",
    "        FROM\n",
    "        (\n",
    "            -- Таблица с расширенной инфой по ученикам (купленные курсы)\n",
    "            SELECT\n",
    "                s.st_id AS st_id,\n",
    "                s.test_grp AS grp,\n",
    "                COALESCE(f.money, 0) AS item_money\n",
    "            FROM studs_df AS s\n",
    "            LEFT JOIN final_project_check_df AS f\n",
    "                ON s.st_id = f.st_id\n",
    "        )\n",
    "        GROUP BY st_id\n",
    "    ),\n",
    "    active_users AS\n",
    "    (\n",
    "        -- Таблица с активными пользователями\n",
    "        SELECT\n",
    "            st_id,\n",
    "            SUM(correct) > 10 AS active_flag\n",
    "        FROM peas_df\n",
    "        GROUP BY st_id\n",
    "        HAVING active_flag == 1\n",
    "    ),\n",
    "    amath_users AS\n",
    "    (\n",
    "        -- Таблица с активными пользователями по математике\n",
    "        SELECT\n",
    "            st_id,\n",
    "            MIN(grp) AS grp,\n",
    "            SUM(correct) >= 2 AS active_flag\n",
    "        FROM\n",
    "        (\n",
    "            SELECT\n",
    "                p.st_id AS st_id,\n",
    "                p.correct AS correct,\n",
    "                p.subject AS subject,\n",
    "                s.test_grp AS grp\n",
    "            FROM peas_df AS p\n",
    "            LEFT JOIN studs_df as s\n",
    "                ON s.st_id = p.st_id\n",
    "        )\n",
    "        WHERE subject == 'Math'\n",
    "        GROUP BY st_id\n",
    "        HAVING active_flag == 1\n",
    "    ),\n",
    "    user_math_buys AS\n",
    "    (\n",
    "        -- Таблица с фактами покупки курса по математике пользователями\n",
    "        SELECT\n",
    "            st_id,\n",
    "            MIN(grp) AS grp,\n",
    "            MAX(money) > -1 AS bool_money\n",
    "        FROM\n",
    "        (\n",
    "            -- Таблица с расширенной инфой по ученикам (купленные курсы по математике)\n",
    "            SELECT\n",
    "                s.st_id AS st_id,\n",
    "                s.test_grp AS grp,\n",
    "                COALESCE(f.money, 0) AS money\n",
    "            FROM studs_df AS s\n",
    "            JOIN final_project_check_df AS f\n",
    "                ON s.st_id = f.st_id\n",
    "            WHERE f.subject == 'Math'\n",
    "        )\n",
    "        GROUP BY st_id\n",
    "    ),\n",
    "    \n",
    "    \n",
    "    -- Таблицы с решениями заданий\n",
    "    ARPU_table AS\n",
    "    (\n",
    "        SELECT \n",
    "            grp,\n",
    "            ROUND(AVG(money), 1) AS ARPU\n",
    "        FROM user_checks\n",
    "        GROUP BY grp\n",
    "    ),\n",
    "    ARPAU_table AS\n",
    "    (\n",
    "        SELECT\n",
    "            uc.grp AS grp,\n",
    "            ROUND(AVG(uc.money), 1) AS ARPAU\n",
    "        FROM user_checks AS uc\n",
    "        JOIN active_users AS au\n",
    "            ON uc.st_id = au.st_id\n",
    "        GROUP BY grp\n",
    "    ),\n",
    "    CR_table AS\n",
    "    (\n",
    "        SELECT\n",
    "            grp,\n",
    "            ROUND(AVG(bool_money) * 100, 1) AS CR\n",
    "        FROM user_checks\n",
    "        GROUP BY grp\n",
    "    ),\n",
    "    CR_active_table AS\n",
    "    (\n",
    "        SELECT\n",
    "            grp,\n",
    "            ROUND(AVG(bool_money) * 100, 1) AS CR_active\n",
    "        FROM\n",
    "        (\n",
    "            -- Таблица с чеками активных пользователей\n",
    "            SELECT\n",
    "                uc.grp AS grp,\n",
    "                uc.bool_money AS bool_money\n",
    "            FROM user_checks AS uc\n",
    "            JOIN active_users AS au\n",
    "                ON uc.st_id = au.st_id\n",
    "        )\n",
    "        GROUP BY grp\n",
    "    ),\n",
    "    CR_amath_table AS\n",
    "    (\n",
    "        SELECT\n",
    "            grp,\n",
    "            ROUND(AVG(bool_money) * 100, 1) AS CR_act_math\n",
    "        FROM\n",
    "        (\n",
    "            -- Таблица с чеками активных пользователей по математике\n",
    "            SELECT\n",
    "                amu.grp AS grp,\n",
    "                COALESCE(umb.bool_money, 0) AS bool_money\n",
    "            FROM amath_users AS amu\n",
    "            LEFT JOIN user_math_buys AS umb\n",
    "                ON umb.st_id = amu.st_id\n",
    "        )\n",
    "        GROUP BY grp\n",
    "    )\n",
    "\n",
    "-- Создание итоговой таблицы с метриками\n",
    "SELECT\n",
    "    t1.grp AS grp,\n",
    "    t1.ARPU AS ARPU,\n",
    "    t2.ARPAU AS ARPAU,\n",
    "    t3.CR AS CR,\n",
    "    t4.CR_active AS CR_active,\n",
    "    t5.CR_act_math AS CR_act_math\n",
    "FROM ARPU_table as t1\n",
    "JOIN ARPAU_table AS t2\n",
    "    ON t1.grp = t2.grp\n",
    "JOIN CR_table AS t3\n",
    "    ON t1.grp = t3.grp\n",
    "JOIN CR_active_table AS t4\n",
    "    ON t1.grp = t4.grp\n",
    "JOIN CR_amath_table AS t5\n",
    "    ON t1.grp = t5.grp\n",
    "\"\"\"\n",
    "ps.sqldf(query)"
   ]
  },
  {
   "cell_type": "markdown",
   "metadata": {},
   "source": [
    "# Задание 3 (Python)\n",
    "Предполагается корректность всех имеющихся df"
   ]
  },
  {
   "cell_type": "code",
   "execution_count": 95,
   "metadata": {},
   "outputs": [],
   "source": [
    "def get_plots(metrics_dict):\n",
    "    \"\"\"\n",
    "    Функция для отображения метрик на графиках\n",
    "    \n",
    "    Parameters\n",
    "    ----------\n",
    "    metrics_dict: dict\n",
    "        Словарь с названиями метрик и их значениями {str: float}\n",
    "    \"\"\"\n",
    "    sns.set(\n",
    "        font_scale=.8,\n",
    "        style='whitegrid',\n",
    "        rc={'figure.figsize': (7, 3)}\n",
    "    )\n",
    "    \n",
    "    fig, axs = plt.subplots(ncols=3)\n",
    "    fig.suptitle('Метрики')\n",
    "    for i, key in enumerate(metrics_dict):\n",
    "        sns.barplot(data=metrics_dict[key], x='Group', y='Value', ax=axs[i])\n",
    "        axs[i].set_ylabel('')\n",
    "        show_values_on_bars(axs[i])\n",
    "#         axs[i].bar_label(axs[i].containers[0], fmt='%.1f')  # Работает для новой версии matplotlib\n",
    "        axs[i].set_title(f'{key}')\n",
    "\n",
    "\n",
    "def show_values_on_bars(axs, h_v=\"v\", space=0.4):\n",
    "    '''\n",
    "    Функция добавляет ~ высоту столбцов для barplot\n",
    "    \n",
    "    Parameters\n",
    "    ----------\n",
    "    axs \n",
    "        Axes\n",
    "    h_v\n",
    "        Whether the barplot is horizontal or vertical. \n",
    "        \"h\" represents the horizontal barplot, \n",
    "        \"v\" represents the vertical barplot\n",
    "    space\n",
    "        The space between value text and the top edge of the bar. \n",
    "        Only works for horizontal mode.\n",
    "    \n",
    "    Returns\n",
    "    -------\n",
    "    '''\n",
    "    def _show_on_single_plot(ax):\n",
    "        if h_v == \"v\":\n",
    "            for p in ax.patches:\n",
    "                _x = p.get_x() + p.get_width() / 2\n",
    "                _y = p.get_y() + p.get_height()\n",
    "                value = int(p.get_height())\n",
    "                ax.text(_x, _y, value, ha=\"center\") \n",
    "        elif h_v == \"h\":\n",
    "            for p in ax.patches:\n",
    "                _x = p.get_x() + p.get_width() + float(space)\n",
    "                _y = p.get_y() + p.get_height()\n",
    "                value = int(p.get_width())\n",
    "                ax.text(_x, _y, value, ha=\"left\")\n",
    "\n",
    "    if isinstance(axs, np.ndarray):\n",
    "        for idx, ax in np.ndenumerate(axs):\n",
    "            _show_on_single_plot(ax)\n",
    "    else:\n",
    "        _show_on_single_plot(axs)"
   ]
  },
  {
   "cell_type": "code",
   "execution_count": 97,
   "metadata": {},
   "outputs": [],
   "source": [
    "def get_metrics(\n",
    "    ids_file,\n",
    "    ids_add_file,\n",
    "    users_url_file,\n",
    "    checks_file,\n",
    "    from_url=False,\n",
    "    ids_url='https://disk.yandex.ru/d/UhyYx41rTt3clQ',\n",
    "    ids_add_url='https://disk.yandex.ru/d/5Kxrz02m3IBUwQ',\n",
    "    users_url='https://disk.yandex.ru/d/Tbs44Bm6H_FwFQ',\n",
    "    checks_url='https://disk.yandex.ru/d/pH1q-VqcxXjsVA'\n",
    "):\n",
    "    '''\n",
    "    Функция автоматически подгружает информацию (в т.ч. из дополнительного файла groups_add.csv),\n",
    "    считает метрики и строит на их основе графики\n",
    "    \n",
    "    Parameters\n",
    "    ----------\n",
    "    ids_file: str\n",
    "        Название файла с инфой о принадлежности пользователя группе (A/B)\n",
    "    ids_add_file: str\n",
    "        Название файла с дополнительными пользователями\n",
    "    users_url_file: str\n",
    "        Название файла с инфой по пользователям, которые зашли на платформу в дни проведения эксперимента\n",
    "    checks_file: str\n",
    "        Название файла с инфой об оплатах пользователей в дни проведения эксперимента\n",
    "    from_url: bool, default False\n",
    "        Использовать ли ссылки для получения данных / считать данные из файлов\n",
    "    ids_url: str, default 'https://disk.yandex.ru/d/UhyYx41rTt3clQ',\n",
    "        Ссылка на файл с инфой о принадлежности пользователя группе (A/B)\n",
    "    ids_add_url: str, default 'https://disk.yandex.ru/d/5Kxrz02m3IBUwQ',\n",
    "        Ссылка на файл с дополнительными пользователями\n",
    "    users_url: str, default 'https://disk.yandex.ru/d/Tbs44Bm6H_FwFQ',\n",
    "        Ссылка на файл с инфой по пользователям, которые зашли на платформу в дни проведения эксперимента\n",
    "    checks_url: str, default 'https://disk.yandex.ru/d/pH1q-VqcxXjsVA'\n",
    "        Ссылка на файл с инфой об оплатах пользователей в дни проведения эксперимента\n",
    "    \n",
    "    Returns\n",
    "    -------\n",
    "    metrics_dict: dict\n",
    "        Словарь с метриками\n",
    "        keys: 'ARPPU', 'CR', 'ARPU'\n",
    "    '''\n",
    "    if from_url:\n",
    "        get_url = 'https://getfile.dokpub.com/yandex/get/'\n",
    "        # id по группам\n",
    "        ids_df = pd.read_csv(get_url + ids_url, sep=';')\n",
    "        # дополнительные id по группам\n",
    "        ids_add_df = pd.read_csv(get_url + ids_add_url, sep=',', header=0, names=['id', 'grp'])\n",
    "        # Пользователи\n",
    "        users_df = pd.read_csv(get_url + users_url, sep=',')\n",
    "        # Покупки\n",
    "        checks_df = pd.read_csv(get_url + checks_url, sep=';')\n",
    "    else:    \n",
    "        ids_df = pd.read_csv(ids_file, sep=';')\n",
    "        ids_add_df = pd.read_csv(ids_add_file, sep=',', header=0, names=['id', 'grp'])\n",
    "        users_df = pd.read_csv(users_url_file, sep=',')\n",
    "        checks_df = pd.read_csv(checks_file, sep=';')\n",
    "        \n",
    "\n",
    "    # Обработка данных\n",
    "    ids_all_df = pd.concat([ids_df, ids_add_df])  # Все id\n",
    "    ids_all_df = ids_all_df.groupby('id').head(1)  # Все уникальные id\n",
    "\n",
    "    users_df.rename(columns={'student_id': 'id'}, inplace=True)\n",
    "    users_df = users_df.groupby('id').head(1)  # Уникальные пользователи\n",
    "    users_df = users_df.merge(ids_all_df)  # Уникальные пользователи с принадлежностью к группе\n",
    "\n",
    "    checks_df.rename(columns={'student_id': 'id'}, inplace=True)\n",
    "\n",
    "    clients_df = checks_df.merge(ids_all_df, on='id')  # Клиенты\n",
    "    \n",
    "    # Метрики\n",
    "    ARPPU = (\n",
    "        clients_df.groupby('grp', as_index=False).rev.mean().round(1)\n",
    "        .rename(columns={'rev': 'Value', 'grp': 'Group'})\n",
    "    )\n",
    "    users_checks_df = users_df.merge(checks_df, on='id', how='left')\n",
    "    CR = (\n",
    "        users_checks_df.assign(rev_bool=users_checks_df.rev > 0)\n",
    "        .groupby('grp', as_index=False).rev_bool.mean()\n",
    "        .rename(columns={'rev_bool': 'Value', 'grp': 'Group'})\n",
    "    )\n",
    "    CR.Value = CR.Value.mul(100).round(1)\n",
    "    ARPU = (\n",
    "        users_df.merge(checks_df, on='id', how='left').fillna(0)\n",
    "        .groupby(['grp', 'id'], as_index=False).rev.sum()\n",
    "        .groupby('grp', as_index=False).rev.mean().round(1)\n",
    "        .rename(columns={'rev': 'Value', 'grp': 'Group'})\n",
    "    )\n",
    "    \n",
    "    metrics_dict = {\n",
    "        'ARPPU': ARPPU,\n",
    "        'CR%': CR,\n",
    "        'ARPU': ARPU\n",
    "    }\n",
    "    \n",
    "    return metrics_dict"
   ]
  },
  {
   "cell_type": "code",
   "execution_count": 98,
   "metadata": {},
   "outputs": [],
   "source": [
    "metrics_dict = get_metrics(\n",
    "    ids_file='groups.csv',\n",
    "    ids_add_file='group_add.csv',\n",
    "    users_url_file='active_studs.csv',\n",
    "    checks_file='checks.csv'\n",
    ")"
   ]
  },
  {
   "cell_type": "code",
   "execution_count": 99,
   "metadata": {},
   "outputs": [
    {
     "data": {
      "image/png": "[encoded data removed]",
      "text/plain": [
       "<Figure size 700x300 with 3 Axes>"
      ]
     },
     "metadata": {},
     "output_type": "display_data"
    }
   ],
   "source": [
    "get_plots(metrics_dict)"
   ]
  },
  {
   "cell_type": "markdown",
   "metadata": {},
   "source": [
    "Inspired by: KCM12"
   ]
  }
 ],
 "metadata": {
  "kernelspec": {
   "display_name": "Python 3 (ipykernel)",
   "language": "python",
   "name": "python3"
  },
  "language_info": {
   "codemirror_mode": {
    "name": "ipython",
    "version": 3
   },
   "file_extension": ".py",
   "mimetype": "text/x-python",
   "name": "python",
   "nbconvert_exporter": "python",
   "pygments_lexer": "ipython3",
   "version": "3.11.4"
  }
 },
 "nbformat": 4,
 "nbformat_minor": 4
}
